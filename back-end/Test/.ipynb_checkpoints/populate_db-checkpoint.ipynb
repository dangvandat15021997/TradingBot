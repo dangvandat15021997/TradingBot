{
 "cells": [
  {
   "cell_type": "code",
   "execution_count": 68,
   "id": "96a72136",
   "metadata": {},
   "outputs": [
    {
     "name": "stdout",
     "output_type": "stream",
     "text": [
      "ZENUSDT1m\n",
      "ZENUSDT3m\n",
      "ZENUSDT5m\n",
      "ZENUSDT15m\n",
      "ZENUSDT30m\n",
      "ZENUSDT1h\n",
      "ZENUSDT2h\n",
      "ZENUSDT4h\n",
      "ZENUSDT6h\n",
      "ZENUSDT8h\n",
      "ZENUSDT12h\n",
      "ZENUSDT1d\n",
      "ZENUSDT3d\n",
      "ZENUSDT1w\n",
      "ZENUSDT1M\n"
     ]
    }
   ],
   "source": [
    "from download import get_data\n",
    "import config\n",
    "import sqlite3 as sql\n",
    "\n",
    "def update_coin_pair():\n",
    "    #creat client\n",
    "    API_KEY = 'xVmi1a1kjLmsEPhpJGCGkw5ijfuJzNoKn5hHHnofKpuuURkzNfvBSCEYJC01DGNJ'\n",
    "    API_SECRET = 'rR0fc9MAzZysK9pCwJ6j4Bh27Kl7s8lzGqS4KCX8egWnTKdwpd4REVPwy3LSpXfi'\n",
    "    client = Client(API_KEY, API_SECRET, tld='us')\n",
    "\n",
    "    #create db conn\n",
    "    conn = sql.connect('app.db')\n",
    "    conn.row_factory = sql.Row\n",
    "    cursor = conn.cursor()\n",
    "\n",
    "\n",
    "    #create list exist symbol\n",
    "    select_query = '''SELECT DISTINCT symbol FROM coin_pair'''\n",
    "    cursor.execute(select_query)\n",
    "    rows = cursor.fetchall()\n",
    "    symbols_existed = [row['symbol'] for row in rows]\n",
    "\n",
    "\n",
    "    #insert query\n",
    "    insert_coin_pair = '''INSERT INTO coin_pair(symbol, interval) VALUES(?,?)'''\n",
    "    # print(symbols_existed)\n",
    "\n",
    "    #get exchange info\n",
    "    exchange_info = client.get_exchange_info()\n",
    "    KLNE_INTERVAL_LIST  = ['1m', '3m', '5m', '15m', '30m', '1h', '2h', '4h', '6h', '8h', '12h', '1d', '3d', '1w', '1M']\n",
    "    #insert to db\n",
    "    for s in exchange_info['symbols']:\n",
    "        try:\n",
    "            if (s['symbol'][-4:].lower() == 'usdt') and (s['status'] == \"TRADING\") and (s['symbol'] not in symbols_existed):\n",
    "                for interval in KLNE_INTERVAL_LIST:\n",
    "                    conn.execute(insert_coin_pair, (s['symbol'], interval))   \n",
    "                    print(s['symbol'] + interval)\n",
    "        except Exception as e:\n",
    "            print('error')\n",
    "    conn.commit()\n",
    "\n",
    "if __name__ == '__main__':\n",
    "    update_coin_pair()"
   ]
  },
  {
   "cell_type": "code",
   "execution_count": null,
   "id": "3cddd5e4",
   "metadata": {},
   "outputs": [],
   "source": []
  }
 ],
 "metadata": {
  "kernelspec": {
   "display_name": "Python 3",
   "language": "python",
   "name": "python3"
  },
  "language_info": {
   "codemirror_mode": {
    "name": "ipython",
    "version": 3
   },
   "file_extension": ".py",
   "mimetype": "text/x-python",
   "name": "python",
   "nbconvert_exporter": "python",
   "pygments_lexer": "ipython3",
   "version": "3.6.13"
  }
 },
 "nbformat": 4,
 "nbformat_minor": 5
}
