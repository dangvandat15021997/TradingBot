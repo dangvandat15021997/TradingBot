{
 "cells": [
  {
   "cell_type": "code",
   "execution_count": 1,
   "id": "961e1293",
   "metadata": {},
   "outputs": [],
   "source": [
    "from download import get_data\n",
    "from binance.client import Client\n",
    "import datetime as dt\n",
    "import config\n",
    "import sqlite3 as sql\n",
    "import pandas as pd\n",
    "import numpy as np"
   ]
  },
  {
   "cell_type": "code",
   "execution_count": 2,
   "id": "6f1e79ef",
   "metadata": {},
   "outputs": [],
   "source": [
    "#insert data from dataframe\n",
    "def insert_coin_price(symbol, interval, new_data):\n",
    "    try:\n",
    "        \n",
    "        conn = sql.connect('app.db', detect_types=sql.PARSE_DECLTYPES | sql.PARSE_COLNAMES)\n",
    "        conn.row_factory = sql.Row\n",
    "        cursor = conn.cursor()\n",
    "        # get id_coin pair from coin_pair table\n",
    "        id_coin_pair_query = '''SELECT DISTINCT id \n",
    "                                FROM coin_pair a\n",
    "                                WHERE a.symbol = ? and a.interval = ? '''\n",
    "        cursor.execute(id_coin_pair_query, (symbol, interval))\n",
    "        id_coin_pair_rows = cursor.fetchone()\n",
    "        # if not exist insert new one to table\n",
    "        if id_coin_pair_rows is None:\n",
    "            new_query = '''INSERT INTO coin_pair(symbol, interval) VALUES(?,?)'''\n",
    "            cursor.execute(new_query, (symbol,interval))\n",
    "            cursor.execute(id_coin_pair_query, (symbol, interval))\n",
    "            id_coin_pair_rows = cursor.fetchone()\n",
    "        \n",
    "        # insert data\n",
    "        id_coin_pair = id_coin_pair_rows['id']\n",
    "#         print(id_coin_pair)\n",
    "        new_col = np.ones(len(new_data))\n",
    "        new_col = np.where(new_col==1, id_coin_pair, new_col)\n",
    "        new_data['id_coin_pair'] = pd.Series(new_col)\n",
    "        new_data.to_sql(name = 'coin_price', con=conn, if_exists='append', index=False)\n",
    "    except Exception as e:\n",
    "        print(e)\n",
    "        print(id_coin_pair)\n",
    "    conn.commit()\n",
    "    conn.close()"
   ]
  },
  {
   "cell_type": "code",
   "execution_count": 3,
   "id": "54b328f9",
   "metadata": {},
   "outputs": [],
   "source": [
    "def update_coin_price_by_interval(symbol, interval):\n",
    "    # set param for pd.DateOffset\n",
    "    #create db conn\n",
    "    conn = sql.connect('app.db', detect_types=sql.PARSE_DECLTYPES | sql.PARSE_COLNAMES)\n",
    "    conn.row_factory = sql.Row\n",
    "    cursor = conn.cursor()\n",
    "    \n",
    "    params_timedelta = dict(days=0, seconds=0, microseconds=0, minutes=0, hours=0, weeks=0, months = 0)\n",
    "    dict_interval = {'d':'days', 's':'seconds', 'm':'minutes','h':'hours','w': 'weeks', 'M': 'months'}\n",
    "    params_timedelta[dict_interval[interval[-1]]] = int(interval[0])\n",
    "    # get the lates open time\n",
    "    latest_opentime_query = '''SELECT * \n",
    "                               FROM coin_pair a INNER JOIN coin_price b ON (a.id = b.id_coin_pair)\n",
    "                               WHERE a.symbol = ? and a.interval = ?\n",
    "                               ORDER BY open_time DESC LIMIT 1;''' \n",
    "    cursor.execute(latest_opentime_query, (symbol, interval))\n",
    "    rows = cursor.fetchone()\n",
    "\n",
    "\n",
    "    # check is symbol and interval is exist in coin_price\n",
    "    #if not download from 1/1/2017\n",
    "    if rows is None:\n",
    "        start_time = dt.datetime(2017,1,1)\n",
    "        print(f'statr time: {start_time}, interval: {interval}, symbol: {symbol}')\n",
    "        new_data = get_data(symbol, interval, start_time, dt.datetime.now())\n",
    "        new_data.rename(columns={new_data.columns[-1]:new_data.columns[-1].strip()}, inplace=True)\n",
    "        new_data = new_data.reset_index()\n",
    "        insert_coin_price(symbol, interval, new_data)\n",
    "    else:\n",
    "        #start time = last open time + interval\n",
    "        start_time = (rows['open_time'] + pd.DateOffset(**params_timedelta)).to_pydatetime()\n",
    "        if (start_time < dt.datetime.now()):\n",
    "            print(f'start time: {start_time}, interval: {interval}, symbol: {symbol}')\n",
    "            new_data = get_data(symbol, interval, start_time, dt.datetime.now())\n",
    "            new_data.rename(columns={new_data.columns[-1]:new_data.columns[-1].strip()}, inplace=True)\n",
    "            new_data = new_data.reset_index()\n",
    "            insert_coin_price(symbol, interval, new_data)\n",
    "        else:\n",
    "            print(f'interval: {interval}, symbol: {symbol} is up to date!')\n",
    "    conn.commit()\n",
    "    conn.close()"
   ]
  },
  {
   "cell_type": "code",
   "execution_count": 8,
   "id": "15789dd1",
   "metadata": {},
   "outputs": [
    {
     "name": "stdout",
     "output_type": "stream",
     "text": [
      "start time: 2021-06-10 20:00:00, interval: 4h, symbol: BTCUSDT\n"
     ]
    },
    {
     "ename": "ValueError",
     "evalue": "max() arg is an empty sequence",
     "output_type": "error",
     "traceback": [
      "\u001b[1;31m---------------------------------------------------------------------------\u001b[0m",
      "\u001b[1;31mValueError\u001b[0m                                Traceback (most recent call last)",
      "\u001b[1;32m<ipython-input-8-253806ad4ff9>\u001b[0m in \u001b[0;36m<module>\u001b[1;34m\u001b[0m\n\u001b[0;32m      1\u001b[0m \u001b[0msymbol\u001b[0m \u001b[1;33m=\u001b[0m \u001b[1;34m'BTCUSDT'\u001b[0m\u001b[1;33m\u001b[0m\u001b[1;33m\u001b[0m\u001b[0m\n\u001b[0;32m      2\u001b[0m \u001b[0minterval\u001b[0m \u001b[1;33m=\u001b[0m \u001b[1;34m'4h'\u001b[0m\u001b[1;33m\u001b[0m\u001b[1;33m\u001b[0m\u001b[0m\n\u001b[1;32m----> 3\u001b[1;33m \u001b[0mupdate_coin_price_by_interval\u001b[0m\u001b[1;33m(\u001b[0m\u001b[0msymbol\u001b[0m\u001b[1;33m,\u001b[0m \u001b[0minterval\u001b[0m\u001b[1;33m)\u001b[0m\u001b[1;33m\u001b[0m\u001b[1;33m\u001b[0m\u001b[0m\n\u001b[0m",
      "\u001b[1;32m<ipython-input-3-681e9356ab06>\u001b[0m in \u001b[0;36mupdate_coin_price_by_interval\u001b[1;34m(symbol, interval)\u001b[0m\n\u001b[0;32m     32\u001b[0m         \u001b[1;32mif\u001b[0m \u001b[1;33m(\u001b[0m\u001b[0mstart_time\u001b[0m \u001b[1;33m<\u001b[0m \u001b[0mdt\u001b[0m\u001b[1;33m.\u001b[0m\u001b[0mdatetime\u001b[0m\u001b[1;33m.\u001b[0m\u001b[0mnow\u001b[0m\u001b[1;33m(\u001b[0m\u001b[1;33m)\u001b[0m\u001b[1;33m)\u001b[0m\u001b[1;33m:\u001b[0m\u001b[1;33m\u001b[0m\u001b[1;33m\u001b[0m\u001b[0m\n\u001b[0;32m     33\u001b[0m             \u001b[0mprint\u001b[0m\u001b[1;33m(\u001b[0m\u001b[1;34mf'start time: {start_time}, interval: {interval}, symbol: {symbol}'\u001b[0m\u001b[1;33m)\u001b[0m\u001b[1;33m\u001b[0m\u001b[1;33m\u001b[0m\u001b[0m\n\u001b[1;32m---> 34\u001b[1;33m             \u001b[0mnew_data\u001b[0m \u001b[1;33m=\u001b[0m \u001b[0mget_data\u001b[0m\u001b[1;33m(\u001b[0m\u001b[0msymbol\u001b[0m\u001b[1;33m,\u001b[0m \u001b[0minterval\u001b[0m\u001b[1;33m,\u001b[0m \u001b[0mstart_time\u001b[0m\u001b[1;33m,\u001b[0m \u001b[0mdt\u001b[0m\u001b[1;33m.\u001b[0m\u001b[0mdatetime\u001b[0m\u001b[1;33m.\u001b[0m\u001b[0mnow\u001b[0m\u001b[1;33m(\u001b[0m\u001b[1;33m)\u001b[0m\u001b[1;33m)\u001b[0m\u001b[1;33m\u001b[0m\u001b[1;33m\u001b[0m\u001b[0m\n\u001b[0m\u001b[0;32m     35\u001b[0m             \u001b[0mnew_data\u001b[0m\u001b[1;33m.\u001b[0m\u001b[0mrename\u001b[0m\u001b[1;33m(\u001b[0m\u001b[0mcolumns\u001b[0m\u001b[1;33m=\u001b[0m\u001b[1;33m{\u001b[0m\u001b[0mnew_data\u001b[0m\u001b[1;33m.\u001b[0m\u001b[0mcolumns\u001b[0m\u001b[1;33m[\u001b[0m\u001b[1;33m-\u001b[0m\u001b[1;36m1\u001b[0m\u001b[1;33m]\u001b[0m\u001b[1;33m:\u001b[0m\u001b[0mnew_data\u001b[0m\u001b[1;33m.\u001b[0m\u001b[0mcolumns\u001b[0m\u001b[1;33m[\u001b[0m\u001b[1;33m-\u001b[0m\u001b[1;36m1\u001b[0m\u001b[1;33m]\u001b[0m\u001b[1;33m.\u001b[0m\u001b[0mstrip\u001b[0m\u001b[1;33m(\u001b[0m\u001b[1;33m)\u001b[0m\u001b[1;33m}\u001b[0m\u001b[1;33m,\u001b[0m \u001b[0minplace\u001b[0m\u001b[1;33m=\u001b[0m\u001b[1;32mTrue\u001b[0m\u001b[1;33m)\u001b[0m\u001b[1;33m\u001b[0m\u001b[1;33m\u001b[0m\u001b[0m\n\u001b[0;32m     36\u001b[0m             \u001b[0mnew_data\u001b[0m \u001b[1;33m=\u001b[0m \u001b[0mnew_data\u001b[0m\u001b[1;33m.\u001b[0m\u001b[0mreset_index\u001b[0m\u001b[1;33m(\u001b[0m\u001b[1;33m)\u001b[0m\u001b[1;33m\u001b[0m\u001b[1;33m\u001b[0m\u001b[0m\n",
      "\u001b[1;32m~\\Desktop\\TraddingBot\\download.py\u001b[0m in \u001b[0;36mget_data\u001b[1;34m(symbol, interval, startTime, endTime)\u001b[0m\n\u001b[0;32m     38\u001b[0m     \u001b[0mprint\u001b[0m\u001b[1;33m(\u001b[0m\u001b[0mlen\u001b[0m\u001b[1;33m(\u001b[0m\u001b[0mdata\u001b[0m\u001b[1;33m)\u001b[0m\u001b[1;33m)\u001b[0m\u001b[1;33m\u001b[0m\u001b[1;33m\u001b[0m\u001b[0m\n\u001b[0;32m     39\u001b[0m     \u001b[1;31m# last_datetime = max(data['open_time']) + pd.DateOffset(**params_timedelta)\u001b[0m\u001b[1;33m\u001b[0m\u001b[1;33m\u001b[0m\u001b[1;33m\u001b[0m\u001b[0m\n\u001b[1;32m---> 40\u001b[1;33m     \u001b[0mlast_datetime\u001b[0m \u001b[1;33m=\u001b[0m \u001b[0mmax\u001b[0m\u001b[1;33m(\u001b[0m\u001b[0mdata\u001b[0m\u001b[1;33m.\u001b[0m\u001b[0mindex\u001b[0m\u001b[1;33m)\u001b[0m \u001b[1;33m+\u001b[0m  \u001b[0mpd\u001b[0m\u001b[1;33m.\u001b[0m\u001b[0mDateOffset\u001b[0m\u001b[1;33m(\u001b[0m\u001b[1;33m**\u001b[0m\u001b[0mparams_timedelta\u001b[0m\u001b[1;33m)\u001b[0m\u001b[1;33m\u001b[0m\u001b[1;33m\u001b[0m\u001b[0m\n\u001b[0m\u001b[0;32m     41\u001b[0m     \u001b[0mdf_list\u001b[0m \u001b[1;33m=\u001b[0m \u001b[1;33m[\u001b[0m\u001b[0mdata\u001b[0m\u001b[1;33m]\u001b[0m\u001b[1;33m\u001b[0m\u001b[1;33m\u001b[0m\u001b[0m\n\u001b[0;32m     42\u001b[0m \u001b[1;33m\u001b[0m\u001b[0m\n",
      "\u001b[1;31mValueError\u001b[0m: max() arg is an empty sequence"
     ]
    }
   ],
   "source": [
    "symbol = 'BTCUSDT'\n",
    "interval = '4h'\n",
    "update_coin_price_by_interval(symbol, interval)"
   ]
  },
  {
   "cell_type": "code",
   "execution_count": 4,
   "id": "bbcb8c73",
   "metadata": {
    "scrolled": false
   },
   "outputs": [
    {
     "name": "stdout",
     "output_type": "stream",
     "text": [
      "start time: 2021-06-10 17:00:00, interval: 1h, symbol: ADAUSDT\n",
      "start time: 2021-06-10 20:00:00, interval: 4h, symbol: ADAUSDT\n"
     ]
    },
    {
     "ename": "ValueError",
     "evalue": "max() arg is an empty sequence",
     "output_type": "error",
     "traceback": [
      "\u001b[1;31m---------------------------------------------------------------------------\u001b[0m",
      "\u001b[1;31mValueError\u001b[0m                                Traceback (most recent call last)",
      "\u001b[1;32m<ipython-input-4-309e8b32db76>\u001b[0m in \u001b[0;36m<module>\u001b[1;34m\u001b[0m\n\u001b[0;32m     19\u001b[0m     \u001b[1;32mfor\u001b[0m \u001b[0msymbol\u001b[0m \u001b[1;32min\u001b[0m \u001b[0msymbols_existed\u001b[0m\u001b[1;33m:\u001b[0m\u001b[1;33m\u001b[0m\u001b[1;33m\u001b[0m\u001b[0m\n\u001b[0;32m     20\u001b[0m         \u001b[1;32mfor\u001b[0m \u001b[0minterval\u001b[0m \u001b[1;32min\u001b[0m \u001b[0mKLINE_INTERVAL_LIST\u001b[0m\u001b[1;33m:\u001b[0m\u001b[1;33m\u001b[0m\u001b[1;33m\u001b[0m\u001b[0m\n\u001b[1;32m---> 21\u001b[1;33m             \u001b[0mupdate_coin_price_by_interval\u001b[0m\u001b[1;33m(\u001b[0m\u001b[0msymbol\u001b[0m\u001b[1;33m,\u001b[0m \u001b[0minterval\u001b[0m\u001b[1;33m)\u001b[0m\u001b[1;33m\u001b[0m\u001b[1;33m\u001b[0m\u001b[0m\n\u001b[0m\u001b[0;32m     22\u001b[0m \u001b[1;32melse\u001b[0m\u001b[1;33m:\u001b[0m\u001b[1;33m\u001b[0m\u001b[1;33m\u001b[0m\u001b[0m\n\u001b[0;32m     23\u001b[0m     \u001b[1;32mpass\u001b[0m\u001b[1;33m\u001b[0m\u001b[1;33m\u001b[0m\u001b[0m\n",
      "\u001b[1;32m<ipython-input-3-681e9356ab06>\u001b[0m in \u001b[0;36mupdate_coin_price_by_interval\u001b[1;34m(symbol, interval)\u001b[0m\n\u001b[0;32m     32\u001b[0m         \u001b[1;32mif\u001b[0m \u001b[1;33m(\u001b[0m\u001b[0mstart_time\u001b[0m \u001b[1;33m<\u001b[0m \u001b[0mdt\u001b[0m\u001b[1;33m.\u001b[0m\u001b[0mdatetime\u001b[0m\u001b[1;33m.\u001b[0m\u001b[0mnow\u001b[0m\u001b[1;33m(\u001b[0m\u001b[1;33m)\u001b[0m\u001b[1;33m)\u001b[0m\u001b[1;33m:\u001b[0m\u001b[1;33m\u001b[0m\u001b[1;33m\u001b[0m\u001b[0m\n\u001b[0;32m     33\u001b[0m             \u001b[0mprint\u001b[0m\u001b[1;33m(\u001b[0m\u001b[1;34mf'start time: {start_time}, interval: {interval}, symbol: {symbol}'\u001b[0m\u001b[1;33m)\u001b[0m\u001b[1;33m\u001b[0m\u001b[1;33m\u001b[0m\u001b[0m\n\u001b[1;32m---> 34\u001b[1;33m             \u001b[0mnew_data\u001b[0m \u001b[1;33m=\u001b[0m \u001b[0mget_data\u001b[0m\u001b[1;33m(\u001b[0m\u001b[0msymbol\u001b[0m\u001b[1;33m,\u001b[0m \u001b[0minterval\u001b[0m\u001b[1;33m,\u001b[0m \u001b[0mstart_time\u001b[0m\u001b[1;33m,\u001b[0m \u001b[0mdt\u001b[0m\u001b[1;33m.\u001b[0m\u001b[0mdatetime\u001b[0m\u001b[1;33m.\u001b[0m\u001b[0mnow\u001b[0m\u001b[1;33m(\u001b[0m\u001b[1;33m)\u001b[0m\u001b[1;33m)\u001b[0m\u001b[1;33m\u001b[0m\u001b[1;33m\u001b[0m\u001b[0m\n\u001b[0m\u001b[0;32m     35\u001b[0m             \u001b[0mnew_data\u001b[0m\u001b[1;33m.\u001b[0m\u001b[0mrename\u001b[0m\u001b[1;33m(\u001b[0m\u001b[0mcolumns\u001b[0m\u001b[1;33m=\u001b[0m\u001b[1;33m{\u001b[0m\u001b[0mnew_data\u001b[0m\u001b[1;33m.\u001b[0m\u001b[0mcolumns\u001b[0m\u001b[1;33m[\u001b[0m\u001b[1;33m-\u001b[0m\u001b[1;36m1\u001b[0m\u001b[1;33m]\u001b[0m\u001b[1;33m:\u001b[0m\u001b[0mnew_data\u001b[0m\u001b[1;33m.\u001b[0m\u001b[0mcolumns\u001b[0m\u001b[1;33m[\u001b[0m\u001b[1;33m-\u001b[0m\u001b[1;36m1\u001b[0m\u001b[1;33m]\u001b[0m\u001b[1;33m.\u001b[0m\u001b[0mstrip\u001b[0m\u001b[1;33m(\u001b[0m\u001b[1;33m)\u001b[0m\u001b[1;33m}\u001b[0m\u001b[1;33m,\u001b[0m \u001b[0minplace\u001b[0m\u001b[1;33m=\u001b[0m\u001b[1;32mTrue\u001b[0m\u001b[1;33m)\u001b[0m\u001b[1;33m\u001b[0m\u001b[1;33m\u001b[0m\u001b[0m\n\u001b[0;32m     36\u001b[0m             \u001b[0mnew_data\u001b[0m \u001b[1;33m=\u001b[0m \u001b[0mnew_data\u001b[0m\u001b[1;33m.\u001b[0m\u001b[0mreset_index\u001b[0m\u001b[1;33m(\u001b[0m\u001b[1;33m)\u001b[0m\u001b[1;33m\u001b[0m\u001b[1;33m\u001b[0m\u001b[0m\n",
      "\u001b[1;32m~\\Desktop\\TraddingBot\\download.py\u001b[0m in \u001b[0;36mget_data\u001b[1;34m(symbol, interval, startTime, endTime)\u001b[0m\n\u001b[0;32m     38\u001b[0m \u001b[1;33m\u001b[0m\u001b[0m\n\u001b[0;32m     39\u001b[0m     \u001b[1;31m# last_datetime = max(data['open_time']) + pd.DateOffset(**params_timedelta)\u001b[0m\u001b[1;33m\u001b[0m\u001b[1;33m\u001b[0m\u001b[1;33m\u001b[0m\u001b[0m\n\u001b[1;32m---> 40\u001b[1;33m     \u001b[0mlast_datetime\u001b[0m \u001b[1;33m=\u001b[0m \u001b[0mmax\u001b[0m\u001b[1;33m(\u001b[0m\u001b[0mdata\u001b[0m\u001b[1;33m.\u001b[0m\u001b[0mindex\u001b[0m\u001b[1;33m)\u001b[0m \u001b[1;33m+\u001b[0m  \u001b[0mpd\u001b[0m\u001b[1;33m.\u001b[0m\u001b[0mDateOffset\u001b[0m\u001b[1;33m(\u001b[0m\u001b[1;33m**\u001b[0m\u001b[0mparams_timedelta\u001b[0m\u001b[1;33m)\u001b[0m\u001b[1;33m\u001b[0m\u001b[1;33m\u001b[0m\u001b[0m\n\u001b[0m\u001b[0;32m     41\u001b[0m     \u001b[0mdf_list\u001b[0m \u001b[1;33m=\u001b[0m \u001b[1;33m[\u001b[0m\u001b[0mdata\u001b[0m\u001b[1;33m]\u001b[0m\u001b[1;33m\u001b[0m\u001b[1;33m\u001b[0m\u001b[0m\n\u001b[0;32m     42\u001b[0m \u001b[1;33m\u001b[0m\u001b[0m\n",
      "\u001b[1;31mValueError\u001b[0m: max() arg is an empty sequence"
     ]
    }
   ],
   "source": [
    "#create db conn\n",
    "conn = sql.connect('app.db', detect_types=sql.PARSE_DECLTYPES | sql.PARSE_COLNAMES)\n",
    "conn.row_factory = sql.Row\n",
    "cursor = conn.cursor()\n",
    "\n",
    "#create list exist symbol\n",
    "select_query = '''SELECT DISTINCT symbol FROM coin_pair;'''\n",
    "cursor.execute(select_query)\n",
    "rows = cursor.fetchall()\n",
    "symbols_existed = [row['symbol'] for row in rows]\n",
    "\n",
    "KLINE_INTERVAL_LIST  = ['1h', '4h', '1d', '1w', '1M']\n",
    "\n",
    "conn.commit()\n",
    "conn.close()\n",
    "\n",
    "\n",
    "if symbols_existed:\n",
    "    for symbol in symbols_existed:    \n",
    "        for interval in KLINE_INTERVAL_LIST:\n",
    "            update_coin_price_by_interval(symbol, interval)\n",
    "else:\n",
    "    pass\n",
    "print('coin_price is up to date!')\n",
    "\n",
    "\n"
   ]
  },
  {
   "cell_type": "markdown",
   "id": "280062aa",
   "metadata": {},
   "source": [
    "open_time, open, high, low, close, volume, close_time, quote_asset_volume, num_of_trades, taker_buy_base, taker_buy_quote "
   ]
  },
  {
   "cell_type": "code",
   "execution_count": 5,
   "id": "e1d285ca",
   "metadata": {},
   "outputs": [
    {
     "name": "stdout",
     "output_type": "stream",
     "text": [
      "2021-06-10 17:00:00\n"
     ]
    }
   ],
   "source": [
    "#create db conn\n",
    "conn = sql.connect('app.db', detect_types=sql.PARSE_DECLTYPES | sql.PARSE_COLNAMES)\n",
    "conn.row_factory = sql.Row\n",
    "cursor = conn.cursor()\n",
    "\n",
    "symbol = 'ADAUSDT'\n",
    "interval = '1h'\n",
    "# set param for pd.DateOffset\n",
    "params_timedelta = dict(days=0, seconds=0, microseconds=0, minutes=0, hours=0, weeks=0, months = 0)\n",
    "dict_interval = {'d':'days', 's':'seconds', 'm':'minutes','h':'hours','w': 'weeks', 'M': 'months'}\n",
    "params_timedelta[dict_interval[interval[-1]]] = int(interval[0])\n",
    "latest_time_query = '''SELECT * \n",
    "                       FROM coin_pair a INNER JOIN coin_price b ON (a.id = b.id_coin_pair)\n",
    "                       WHERE a.symbol = ? and a.interval = ?\n",
    "                       ORDER BY open_time DESC LIMIT 1;''' \n",
    "cursor.execute(latest_time_query, (symbol, interval))\n",
    "rows = cursor.fetchone()\n",
    "print(rows['open_time'])\n",
    "\n",
    "conn.commit()\n",
    "conn.close()"
   ]
  },
  {
   "cell_type": "code",
   "execution_count": null,
   "id": "b436ad44",
   "metadata": {},
   "outputs": [],
   "source": [
    "def update_coin_price_by_interval(symbol, interval):\n",
    "    # set param for pd.DateOffset\n",
    "    #create db conn\n",
    "    conn = sql.connect('app.db', detect_types=sql.PARSE_DECLTYPES | sql.PARSE_COLNAMES)\n",
    "    conn.row_factory = sql.Row\n",
    "    cursor = conn.cursor()\n",
    "    \n",
    "    params_timedelta = dict(days=0, seconds=0, microseconds=0, minutes=0, hours=0, weeks=0, months = 0)\n",
    "    dict_interval = {'d':'days', 's':'seconds', 'm':'minutes','h':'hours','w': 'weeks', 'M': 'months'}\n",
    "    params_timedelta[dict_interval[interval[-1]]] = int(interval[0])\n",
    "    # get the lates open time\n",
    "    latest_opentime_query = '''SELECT * \n",
    "                               FROM coin_pair a INNER JOIN coin_price b ON (a.id = b.id_coin_pair)\n",
    "                               WHERE a.symbol = ? and a.interval = ?\n",
    "                               ORDER BY open_time DESC LIMIT 1;''' \n",
    "    cursor.execute(latest_opentime_query, (symbol, interval))\n",
    "    rows = cursor.fetchone()\n",
    "\n",
    "\n",
    "    # check is symbol and interval is exist in coin_price\n",
    "    #if not download from 1/1/2017\n",
    "    if rows is None:\n",
    "        start_time = dt.datetime(2017,1,1)\n",
    "        print(f'statr time: {start_time}, interval: {interval}, symbol: {symbol}')\n",
    "        new_data = get_data(symbol, interval, start_time, dt.datetime.now())\n",
    "        new_data.rename(columns={new_data.columns[-1]:new_data.columns[-1].strip()}, inplace=True)\n",
    "        new_data = new_data.reset_index()\n",
    "        insert_coin_price(symbol, interval, new_data)\n",
    "    else:\n",
    "        #start time = last open time + interval\n",
    "        start_time = (rows['open_time'] + pd.DateOffset(**params_timedelta)).to_pydatetime()\n",
    "        if (start_time < dt.datetime.now()):\n",
    "            print(f'start time: {start_time}, interval: {interval}, symbol: {symbol}')\n",
    "            new_data = get_data(symbol, interval, start_time, dt.datetime.now())\n",
    "            new_data.rename(columns={new_data.columns[-1]:new_data.columns[-1].strip()}, inplace=True)\n",
    "            new_data = new_data.reset_index()\n",
    "            insert_coin_price(symbol, interval, new_data)\n",
    "        else:\n",
    "            print(f'interval: {interval}, symbol: {symbol} is up to date!')\n",
    "    conn.commit()\n",
    "    conn.close()"
   ]
  },
  {
   "cell_type": "code",
   "execution_count": 6,
   "id": "dfe008b8",
   "metadata": {},
   "outputs": [],
   "source": [
    "symbol = 'btcusdt'\n",
    "interval = '1h'\n",
    "startTime = dt.datetime(2021, 1, 15)\n",
    "endTime = dt.datetime.now()\n",
    "\n",
    "data  = get_data(symbol.upper(), interval, startTime , endTime)"
   ]
  },
  {
   "cell_type": "code",
   "execution_count": null,
   "id": "2f8bba54",
   "metadata": {},
   "outputs": [],
   "source": []
  }
 ],
 "metadata": {
  "kernelspec": {
   "display_name": "Python 3",
   "language": "python",
   "name": "python3"
  },
  "language_info": {
   "codemirror_mode": {
    "name": "ipython",
    "version": 3
   },
   "file_extension": ".py",
   "mimetype": "text/x-python",
   "name": "python",
   "nbconvert_exporter": "python",
   "pygments_lexer": "ipython3",
   "version": "3.6.13"
  }
 },
 "nbformat": 4,
 "nbformat_minor": 5
}
