{
 "cells": [
  {
   "cell_type": "code",
   "execution_count": 1,
   "id": "e0b0d1d8",
   "metadata": {},
   "outputs": [],
   "source": [
    "from abc import ABC, abstractmethod\n",
    "\n",
    "## kwarg is dict() have keys is indicator names and value is a tupple(params, value)\n",
    "class signal(ABC):  \n",
    "    @abstractmethod    \n",
    "    def signal(self):\n",
    "        pass\n",
    "    def getIndicator(self):\n",
    "        pass"
   ]
  },
  {
   "cell_type": "code",
   "execution_count": 2,
   "id": "5e50609c",
   "metadata": {},
   "outputs": [],
   "source": [
    "import sys\n",
    "sys.path.append('../')\n",
    "sys.path.append('../signals')\n",
    "import sqlite3 as sql\n",
    "import config \n",
    "import numpy as np\n",
    "import talib\n",
    "\n",
    "class EMA_200_signal(signal):\n",
    "    def __init__(self, interval):\n",
    "        self.interval = interval\n",
    "    def signal(self, symbol):\n",
    "        #create db conn\n",
    "        conn = sql.connect(config.DB_URL)\n",
    "        conn.row_factory = sql.Row\n",
    "        cursor = conn.cursor()\n",
    "\n",
    "\n",
    "        #create list exist symbol\n",
    "        select_query = '''SELECT close, open\n",
    "                          FROM coin_pair a INNER JOIN coin_price b on (a.id = b.id_coin_pair)\n",
    "                          WHERE a.symbol = ? and a.interval = ?\n",
    "                          ORDER BY b.close_time DESC'''\n",
    "        cursor.execute(select_query, (symbol,self.interval))\n",
    "        closes = []\n",
    "        rows = cursor.fetchall()\n",
    "        latest_open = None\n",
    "        is_assign = False\n",
    "        for row in rows:\n",
    "            if not is_assign:\n",
    "                latest_open = row['open']\n",
    "                is_assign = True\n",
    "            closes.append(row['close'])\n",
    "\n",
    "        latest_close = closes[0]\n",
    "\n",
    "        conn.commit()\n",
    "        conn.close()\n",
    "\n",
    "\n",
    "        ema_200 = talib.EMA(np.array(closes)[::-1], timeperiod=200)\n",
    "        is_over = None\n",
    "\n",
    "#         print(ema_200)\n",
    "\n",
    "        if latest_close >= ema_200[-1] and latest_open >= ema_200[-1]:\n",
    "            is_over = True\n",
    "        else:\n",
    "            is_over = False\n",
    "\n",
    "        return is_over\n",
    "    def getIndicator(self):\n",
    "        pass"
   ]
  },
  {
   "cell_type": "code",
   "execution_count": 3,
   "id": "1b07a28d",
   "metadata": {},
   "outputs": [],
   "source": [
    "EMA_200_1d_signal = EMA_200_signal('1d')"
   ]
  },
  {
   "cell_type": "code",
   "execution_count": 4,
   "id": "056ec6c4",
   "metadata": {},
   "outputs": [
    {
     "data": {
      "text/plain": [
       "False"
      ]
     },
     "execution_count": 4,
     "metadata": {},
     "output_type": "execute_result"
    }
   ],
   "source": [
    "EMA_200_1d_signal.signal('BTCUSDT')"
   ]
  },
  {
   "cell_type": "code",
   "execution_count": 5,
   "id": "adad279a",
   "metadata": {},
   "outputs": [
    {
     "data": {
      "text/plain": [
       "__main__.EMA_200_signal"
      ]
     },
     "execution_count": 5,
     "metadata": {},
     "output_type": "execute_result"
    }
   ],
   "source": [
    "type(EMA_200_1d_signal)"
   ]
  },
  {
   "cell_type": "code",
   "execution_count": 6,
   "id": "0faadcd9",
   "metadata": {},
   "outputs": [
    {
     "data": {
      "text/plain": [
       "True"
      ]
     },
     "execution_count": 6,
     "metadata": {},
     "output_type": "execute_result"
    }
   ],
   "source": [
    "isinstance(EMA_200_1d_signal, signal)"
   ]
  },
  {
   "cell_type": "code",
   "execution_count": 27,
   "id": "427aa220",
   "metadata": {},
   "outputs": [],
   "source": [
    "import sys\n",
    "sys.path.append('../')\n",
    "sys.path.append('../signals')\n",
    "from signals.signal import signal"
   ]
  },
  {
   "cell_type": "code",
   "execution_count": 9,
   "id": "e5b79d27",
   "metadata": {},
   "outputs": [],
   "source": [
    "name = 'DB_URL'\n",
    "var = getattr(con, name)"
   ]
  },
  {
   "cell_type": "code",
   "execution_count": 10,
   "id": "54c4b8c8",
   "metadata": {},
   "outputs": [
    {
     "data": {
      "text/plain": [
       "'C:\\\\Users\\\\X_X\\\\Desktop\\\\TraddingBot\\\\app.db'"
      ]
     },
     "execution_count": 10,
     "metadata": {},
     "output_type": "execute_result"
    }
   ],
   "source": [
    "var"
   ]
  },
  {
   "cell_type": "code",
   "execution_count": 33,
   "id": "88d6abbb",
   "metadata": {},
   "outputs": [],
   "source": [
    "ls = [item for item in dir(signals) if not item.startswith(\"__\") and isinstance(item, signal)]"
   ]
  },
  {
   "cell_type": "code",
   "execution_count": 34,
   "id": "83883b0b",
   "metadata": {},
   "outputs": [
    {
     "data": {
      "text/plain": [
       "[]"
      ]
     },
     "execution_count": 34,
     "metadata": {},
     "output_type": "execute_result"
    }
   ],
   "source": [
    "ls"
   ]
  },
  {
   "cell_type": "code",
   "execution_count": 21,
   "id": "111dbf19",
   "metadata": {},
   "outputs": [
    {
     "data": {
      "text/plain": [
       "['EMA_200_1D_SIGNAL', 'EMA_200_signal', 'TEST_SIGNAL', 'signal', 'test_signal']"
      ]
     },
     "execution_count": 21,
     "metadata": {},
     "output_type": "execute_result"
    }
   ],
   "source": [
    "ls"
   ]
  },
  {
   "cell_type": "code",
   "execution_count": 35,
   "id": "27691211",
   "metadata": {},
   "outputs": [
    {
     "data": {
      "text/plain": [
       "{'__name__': '__main__',\n",
       " '__doc__': 'Automatically created module for IPython interactive environment',\n",
       " '__package__': None,\n",
       " '__loader__': None,\n",
       " '__spec__': None,\n",
       " '__builtin__': <module 'builtins' (built-in)>,\n",
       " '__builtins__': <module 'builtins' (built-in)>,\n",
       " '_ih': ['',\n",
       "  'from abc import ABC, abstractmethod\\n\\n## kwarg is dict() have keys is indicator names and value is a tupple(params, value)\\nclass signal(ABC):  \\n    @abstractmethod    \\n    def signal(self):\\n        pass\\n    def getIndicator(self):\\n        pass',\n",
       "  \"import sys\\nsys.path.append('../')\\nsys.path.append('../signals')\\nimport sqlite3 as sql\\nimport config \\nimport numpy as np\\nimport talib\\n\\nclass EMA_200_signal(signal):\\n    def __init__(self, interval):\\n        self.interval = interval\\n    def signal(self, symbol):\\n        #create db conn\\n        conn = sql.connect(config.DB_URL)\\n        conn.row_factory = sql.Row\\n        cursor = conn.cursor()\\n\\n\\n        #create list exist symbol\\n        select_query = '''SELECT close, open\\n                          FROM coin_pair a INNER JOIN coin_price b on (a.id = b.id_coin_pair)\\n                          WHERE a.symbol = ? and a.interval = ?\\n                          ORDER BY b.close_time DESC'''\\n        cursor.execute(select_query, (symbol,self.interval))\\n        closes = []\\n        rows = cursor.fetchall()\\n        latest_open = None\\n        is_assign = False\\n        for row in rows:\\n            if not is_assign:\\n                latest_open = row['open']\\n                is_assign = True\\n            closes.append(row['close'])\\n\\n        latest_close = closes[0]\\n\\n        conn.commit()\\n        conn.close()\\n\\n\\n        ema_200 = talib.EMA(np.array(closes)[::-1], timeperiod=200)\\n        is_over = None\\n\\n#         print(ema_200)\\n\\n        if latest_close >= ema_200[-1] and latest_open >= ema_200[-1]:\\n            is_over = True\\n        else:\\n            is_over = False\\n\\n        return is_over\\n    def getIndicator(self):\\n        pass\",\n",
       "  \"EMA_200_1d_signal = EMA_200_signal('1d')\",\n",
       "  \"EMA_200_1d_signal.signal('BTCUSDT')\",\n",
       "  'type(EMA_200_1d_signal)',\n",
       "  'isinstance(EMA_200_1d_signal, signal)',\n",
       "  \"import sys\\nsys.path.append('../')\\nsys.path.append('../signals')\\nfrom config as con\",\n",
       "  \"import sys\\nsys.path.append('../')\\nsys.path.append('../signals')\\nimport config as con\",\n",
       "  \"name = 'DB_URL'\\nvar = getattr(con, name)\",\n",
       "  'var',\n",
       "  'print [item for item in dir(con) if not item.startswith(\"__\")]',\n",
       "  'print([item for item in dir(con) if not item.startswith(\"__\")])',\n",
       "  \"import sys\\nsys.path.append('../')\\nsys.path.append('../signals')\\nimport signals\",\n",
       "  'print([item for item in dir(signals) if not item.startswith(\"__\")])',\n",
       "  'ls = [item for item in dir(signals) if not item.startswith(\"__\")]',\n",
       "  'ls = [item for item in ls if isinstance(item, signal) ]',\n",
       "  'ls',\n",
       "  \"ls = [item for item in ls if isinstance(item, 'signal') ]\",\n",
       "  'ls',\n",
       "  'ls = [item for item in dir(signals) if not item.startswith(\"__\")]',\n",
       "  'ls',\n",
       "  \"ls = [item for item in ls if not isinstance(item, 'signal') ]\",\n",
       "  'ls',\n",
       "  'ls = [item for item in ls if not isinstance(item, signal) ]',\n",
       "  'ls',\n",
       "  \"import sys\\nsys.path.append('../')\\nsys.path.append('../signals')\\nimport signals.signal import signal\",\n",
       "  \"import sys\\nsys.path.append('../')\\nsys.path.append('../signals')\\nfrom signals.signal import signal\",\n",
       "  'ls = [item for item in dir(signals) if not item.startswith(\"__\")]',\n",
       "  'ls = [item for item in ls if isinstance(item, signal)]',\n",
       "  'ls',\n",
       "  'ls = [item for item in dir(signals) if not item.startswith(\"__\") and isinstance(item, signal)]',\n",
       "  'ls = [item for item in ls if isinstance(item, signal)]',\n",
       "  'ls = [item for item in dir(signals) if not item.startswith(\"__\") and isinstance(item, signal)]',\n",
       "  'ls',\n",
       "  'locals()'],\n",
       " '_oh': {4: False,\n",
       "  5: __main__.EMA_200_signal,\n",
       "  6: True,\n",
       "  10: 'C:\\\\Users\\\\X_X\\\\Desktop\\\\TraddingBot\\\\app.db',\n",
       "  17: [],\n",
       "  19: [],\n",
       "  21: ['EMA_200_1D_SIGNAL',\n",
       "   'EMA_200_signal',\n",
       "   'TEST_SIGNAL',\n",
       "   'signal',\n",
       "   'test_signal'],\n",
       "  23: ['EMA_200_1D_SIGNAL',\n",
       "   'EMA_200_signal',\n",
       "   'TEST_SIGNAL',\n",
       "   'signal',\n",
       "   'test_signal'],\n",
       "  25: ['EMA_200_1D_SIGNAL',\n",
       "   'EMA_200_signal',\n",
       "   'TEST_SIGNAL',\n",
       "   'signal',\n",
       "   'test_signal'],\n",
       "  30: [],\n",
       "  34: []},\n",
       " '_dh': ['C:\\\\Users\\\\X_X\\\\Desktop\\\\TraddingBot\\\\Test'],\n",
       " 'In': ['',\n",
       "  'from abc import ABC, abstractmethod\\n\\n## kwarg is dict() have keys is indicator names and value is a tupple(params, value)\\nclass signal(ABC):  \\n    @abstractmethod    \\n    def signal(self):\\n        pass\\n    def getIndicator(self):\\n        pass',\n",
       "  \"import sys\\nsys.path.append('../')\\nsys.path.append('../signals')\\nimport sqlite3 as sql\\nimport config \\nimport numpy as np\\nimport talib\\n\\nclass EMA_200_signal(signal):\\n    def __init__(self, interval):\\n        self.interval = interval\\n    def signal(self, symbol):\\n        #create db conn\\n        conn = sql.connect(config.DB_URL)\\n        conn.row_factory = sql.Row\\n        cursor = conn.cursor()\\n\\n\\n        #create list exist symbol\\n        select_query = '''SELECT close, open\\n                          FROM coin_pair a INNER JOIN coin_price b on (a.id = b.id_coin_pair)\\n                          WHERE a.symbol = ? and a.interval = ?\\n                          ORDER BY b.close_time DESC'''\\n        cursor.execute(select_query, (symbol,self.interval))\\n        closes = []\\n        rows = cursor.fetchall()\\n        latest_open = None\\n        is_assign = False\\n        for row in rows:\\n            if not is_assign:\\n                latest_open = row['open']\\n                is_assign = True\\n            closes.append(row['close'])\\n\\n        latest_close = closes[0]\\n\\n        conn.commit()\\n        conn.close()\\n\\n\\n        ema_200 = talib.EMA(np.array(closes)[::-1], timeperiod=200)\\n        is_over = None\\n\\n#         print(ema_200)\\n\\n        if latest_close >= ema_200[-1] and latest_open >= ema_200[-1]:\\n            is_over = True\\n        else:\\n            is_over = False\\n\\n        return is_over\\n    def getIndicator(self):\\n        pass\",\n",
       "  \"EMA_200_1d_signal = EMA_200_signal('1d')\",\n",
       "  \"EMA_200_1d_signal.signal('BTCUSDT')\",\n",
       "  'type(EMA_200_1d_signal)',\n",
       "  'isinstance(EMA_200_1d_signal, signal)',\n",
       "  \"import sys\\nsys.path.append('../')\\nsys.path.append('../signals')\\nfrom config as con\",\n",
       "  \"import sys\\nsys.path.append('../')\\nsys.path.append('../signals')\\nimport config as con\",\n",
       "  \"name = 'DB_URL'\\nvar = getattr(con, name)\",\n",
       "  'var',\n",
       "  'print [item for item in dir(con) if not item.startswith(\"__\")]',\n",
       "  'print([item for item in dir(con) if not item.startswith(\"__\")])',\n",
       "  \"import sys\\nsys.path.append('../')\\nsys.path.append('../signals')\\nimport signals\",\n",
       "  'print([item for item in dir(signals) if not item.startswith(\"__\")])',\n",
       "  'ls = [item for item in dir(signals) if not item.startswith(\"__\")]',\n",
       "  'ls = [item for item in ls if isinstance(item, signal) ]',\n",
       "  'ls',\n",
       "  \"ls = [item for item in ls if isinstance(item, 'signal') ]\",\n",
       "  'ls',\n",
       "  'ls = [item for item in dir(signals) if not item.startswith(\"__\")]',\n",
       "  'ls',\n",
       "  \"ls = [item for item in ls if not isinstance(item, 'signal') ]\",\n",
       "  'ls',\n",
       "  'ls = [item for item in ls if not isinstance(item, signal) ]',\n",
       "  'ls',\n",
       "  \"import sys\\nsys.path.append('../')\\nsys.path.append('../signals')\\nimport signals.signal import signal\",\n",
       "  \"import sys\\nsys.path.append('../')\\nsys.path.append('../signals')\\nfrom signals.signal import signal\",\n",
       "  'ls = [item for item in dir(signals) if not item.startswith(\"__\")]',\n",
       "  'ls = [item for item in ls if isinstance(item, signal)]',\n",
       "  'ls',\n",
       "  'ls = [item for item in dir(signals) if not item.startswith(\"__\") and isinstance(item, signal)]',\n",
       "  'ls = [item for item in ls if isinstance(item, signal)]',\n",
       "  'ls = [item for item in dir(signals) if not item.startswith(\"__\") and isinstance(item, signal)]',\n",
       "  'ls',\n",
       "  'locals()'],\n",
       " 'Out': {4: False,\n",
       "  5: __main__.EMA_200_signal,\n",
       "  6: True,\n",
       "  10: 'C:\\\\Users\\\\X_X\\\\Desktop\\\\TraddingBot\\\\app.db',\n",
       "  17: [],\n",
       "  19: [],\n",
       "  21: ['EMA_200_1D_SIGNAL',\n",
       "   'EMA_200_signal',\n",
       "   'TEST_SIGNAL',\n",
       "   'signal',\n",
       "   'test_signal'],\n",
       "  23: ['EMA_200_1D_SIGNAL',\n",
       "   'EMA_200_signal',\n",
       "   'TEST_SIGNAL',\n",
       "   'signal',\n",
       "   'test_signal'],\n",
       "  25: ['EMA_200_1D_SIGNAL',\n",
       "   'EMA_200_signal',\n",
       "   'TEST_SIGNAL',\n",
       "   'signal',\n",
       "   'test_signal'],\n",
       "  30: [],\n",
       "  34: []},\n",
       " 'get_ipython': <bound method InteractiveShell.get_ipython of <ipykernel.zmqshell.ZMQInteractiveShell object at 0x000001DA3034FE80>>,\n",
       " 'exit': <IPython.core.autocall.ZMQExitAutocall at 0x1da303e1780>,\n",
       " 'quit': <IPython.core.autocall.ZMQExitAutocall at 0x1da303e1780>,\n",
       " '_': [],\n",
       " '__': [],\n",
       " '___': ['EMA_200_1D_SIGNAL',\n",
       "  'EMA_200_signal',\n",
       "  'TEST_SIGNAL',\n",
       "  'signal',\n",
       "  'test_signal'],\n",
       " '_i': 'ls',\n",
       " '_ii': 'ls = [item for item in dir(signals) if not item.startswith(\"__\") and isinstance(item, signal)]',\n",
       " '_iii': 'ls = [item for item in ls if isinstance(item, signal)]',\n",
       " '_i1': 'from abc import ABC, abstractmethod\\n\\n## kwarg is dict() have keys is indicator names and value is a tupple(params, value)\\nclass signal(ABC):  \\n    @abstractmethod    \\n    def signal(self):\\n        pass\\n    def getIndicator(self):\\n        pass',\n",
       " 'ABC': abc.ABC,\n",
       " 'abstractmethod': <function abc.abstractmethod(funcobj)>,\n",
       " 'signal': signals.signal.signal,\n",
       " '_i2': \"import sys\\nsys.path.append('../')\\nsys.path.append('../signals')\\nimport sqlite3 as sql\\nimport config \\nimport numpy as np\\nimport talib\\n\\nclass EMA_200_signal(signal):\\n    def __init__(self, interval):\\n        self.interval = interval\\n    def signal(self, symbol):\\n        #create db conn\\n        conn = sql.connect(config.DB_URL)\\n        conn.row_factory = sql.Row\\n        cursor = conn.cursor()\\n\\n\\n        #create list exist symbol\\n        select_query = '''SELECT close, open\\n                          FROM coin_pair a INNER JOIN coin_price b on (a.id = b.id_coin_pair)\\n                          WHERE a.symbol = ? and a.interval = ?\\n                          ORDER BY b.close_time DESC'''\\n        cursor.execute(select_query, (symbol,self.interval))\\n        closes = []\\n        rows = cursor.fetchall()\\n        latest_open = None\\n        is_assign = False\\n        for row in rows:\\n            if not is_assign:\\n                latest_open = row['open']\\n                is_assign = True\\n            closes.append(row['close'])\\n\\n        latest_close = closes[0]\\n\\n        conn.commit()\\n        conn.close()\\n\\n\\n        ema_200 = talib.EMA(np.array(closes)[::-1], timeperiod=200)\\n        is_over = None\\n\\n#         print(ema_200)\\n\\n        if latest_close >= ema_200[-1] and latest_open >= ema_200[-1]:\\n            is_over = True\\n        else:\\n            is_over = False\\n\\n        return is_over\\n    def getIndicator(self):\\n        pass\",\n",
       " 'sys': <module 'sys' (built-in)>,\n",
       " 'sql': <module 'sqlite3' from 'E:\\\\Programing Software\\\\Annaconda\\\\Ana\\\\envs\\\\env_binance\\\\lib\\\\sqlite3\\\\__init__.py'>,\n",
       " 'config': <module 'config' from '..\\\\config.py'>,\n",
       " 'np': <module 'numpy' from 'E:\\\\Programing Software\\\\Annaconda\\\\Ana\\\\envs\\\\env_binance\\\\lib\\\\site-packages\\\\numpy\\\\__init__.py'>,\n",
       " 'talib': <module 'talib' from 'E:\\\\Programing Software\\\\Annaconda\\\\Ana\\\\envs\\\\env_binance\\\\lib\\\\site-packages\\\\talib\\\\__init__.py'>,\n",
       " 'EMA_200_signal': __main__.EMA_200_signal,\n",
       " '_i3': \"EMA_200_1d_signal = EMA_200_signal('1d')\",\n",
       " 'EMA_200_1d_signal': <__main__.EMA_200_signal at 0x1da304524a8>,\n",
       " '_i4': \"EMA_200_1d_signal.signal('BTCUSDT')\",\n",
       " '_4': False,\n",
       " '_i5': 'type(EMA_200_1d_signal)',\n",
       " '_5': __main__.EMA_200_signal,\n",
       " '_i6': 'isinstance(EMA_200_1d_signal, signal)',\n",
       " '_6': True,\n",
       " '_i7': \"import sys\\nsys.path.append('../')\\nsys.path.append('../signals')\\nfrom config as con\",\n",
       " '_i8': \"import sys\\nsys.path.append('../')\\nsys.path.append('../signals')\\nimport config as con\",\n",
       " 'con': <module 'config' from '..\\\\config.py'>,\n",
       " '_i9': \"name = 'DB_URL'\\nvar = getattr(con, name)\",\n",
       " 'name': 'DB_URL',\n",
       " 'var': 'C:\\\\Users\\\\X_X\\\\Desktop\\\\TraddingBot\\\\app.db',\n",
       " '_i10': 'var',\n",
       " '_10': 'C:\\\\Users\\\\X_X\\\\Desktop\\\\TraddingBot\\\\app.db',\n",
       " '_i11': 'print [item for item in dir(con) if not item.startswith(\"__\")]',\n",
       " '_i12': 'print([item for item in dir(con) if not item.startswith(\"__\")])',\n",
       " '_i13': \"import sys\\nsys.path.append('../')\\nsys.path.append('../signals')\\nimport signals\",\n",
       " 'signals': <module 'signals' from '..\\\\signals\\\\__init__.py'>,\n",
       " '_i14': 'print([item for item in dir(signals) if not item.startswith(\"__\")])',\n",
       " '_i15': 'ls = [item for item in dir(signals) if not item.startswith(\"__\")]',\n",
       " 'ls': [],\n",
       " '_i16': 'ls = [item for item in ls if isinstance(item, signal) ]',\n",
       " '_i17': 'ls',\n",
       " '_17': [],\n",
       " '_i18': \"ls = [item for item in ls if isinstance(item, 'signal') ]\",\n",
       " '_i19': 'ls',\n",
       " '_19': [],\n",
       " '_i20': 'ls = [item for item in dir(signals) if not item.startswith(\"__\")]',\n",
       " '_i21': 'ls',\n",
       " '_21': ['EMA_200_1D_SIGNAL',\n",
       "  'EMA_200_signal',\n",
       "  'TEST_SIGNAL',\n",
       "  'signal',\n",
       "  'test_signal'],\n",
       " '_i22': \"ls = [item for item in ls if not isinstance(item, 'signal') ]\",\n",
       " '_i23': 'ls',\n",
       " '_23': ['EMA_200_1D_SIGNAL',\n",
       "  'EMA_200_signal',\n",
       "  'TEST_SIGNAL',\n",
       "  'signal',\n",
       "  'test_signal'],\n",
       " '_i24': 'ls = [item for item in ls if not isinstance(item, signal) ]',\n",
       " '_i25': 'ls',\n",
       " '_25': ['EMA_200_1D_SIGNAL',\n",
       "  'EMA_200_signal',\n",
       "  'TEST_SIGNAL',\n",
       "  'signal',\n",
       "  'test_signal'],\n",
       " '_i26': \"import sys\\nsys.path.append('../')\\nsys.path.append('../signals')\\nimport signals.signal import signal\",\n",
       " '_i27': \"import sys\\nsys.path.append('../')\\nsys.path.append('../signals')\\nfrom signals.signal import signal\",\n",
       " '_i28': 'ls = [item for item in dir(signals) if not item.startswith(\"__\")]',\n",
       " '_i29': 'ls = [item for item in ls if isinstance(item, signal)]',\n",
       " '_i30': 'ls',\n",
       " '_30': [],\n",
       " '_i31': 'ls = [item for item in dir(signals) if not item.startswith(\"__\") and isinstance(item, signal)]',\n",
       " '_i32': 'ls = [item for item in ls if isinstance(item, signal)]',\n",
       " '_i33': 'ls = [item for item in dir(signals) if not item.startswith(\"__\") and isinstance(item, signal)]',\n",
       " '_i34': 'ls',\n",
       " '_34': [],\n",
       " '_i35': 'locals()'}"
      ]
     },
     "execution_count": 35,
     "metadata": {},
     "output_type": "execute_result"
    }
   ],
   "source": [
    "locals()"
   ]
  },
  {
   "cell_type": "code",
   "execution_count": 36,
   "id": "074301ec",
   "metadata": {},
   "outputs": [
    {
     "name": "stdout",
     "output_type": "stream",
     "text": [
      "__main__\n"
     ]
    },
    {
     "ename": "RuntimeError",
     "evalue": "dictionary changed size during iteration",
     "output_type": "error",
     "traceback": [
      "\u001b[1;31m---------------------------------------------------------------------------\u001b[0m",
      "\u001b[1;31mRuntimeError\u001b[0m                              Traceback (most recent call last)",
      "\u001b[1;32m<ipython-input-36-b094e4044ed3>\u001b[0m in \u001b[0;36m<module>\u001b[1;34m\u001b[0m\n\u001b[1;32m----> 1\u001b[1;33m \u001b[1;32mfor\u001b[0m \u001b[0mvalue\u001b[0m \u001b[1;32min\u001b[0m \u001b[0mvars\u001b[0m\u001b[1;33m(\u001b[0m\u001b[1;33m)\u001b[0m\u001b[1;33m.\u001b[0m\u001b[0mvalues\u001b[0m\u001b[1;33m(\u001b[0m\u001b[1;33m)\u001b[0m\u001b[1;33m:\u001b[0m\u001b[1;33m\u001b[0m\u001b[1;33m\u001b[0m\u001b[0m\n\u001b[0m\u001b[0;32m      2\u001b[0m     \u001b[0mprint\u001b[0m\u001b[1;33m(\u001b[0m\u001b[0mvalue\u001b[0m\u001b[1;33m)\u001b[0m\u001b[1;33m\u001b[0m\u001b[1;33m\u001b[0m\u001b[0m\n",
      "\u001b[1;31mRuntimeError\u001b[0m: dictionary changed size during iteration"
     ]
    }
   ],
   "source": [
    "for value in vars().values():\n",
    "    print(value)"
   ]
  },
  {
   "cell_type": "code",
   "execution_count": 43,
   "id": "75c50481",
   "metadata": {},
   "outputs": [],
   "source": [
    "EMA_200_1D_SIGNAL = EMA_200_signal(interval = '1d')\n",
    "ls =[item for item in vars().values() if isinstance(item, signal)]"
   ]
  },
  {
   "cell_type": "code",
   "execution_count": 44,
   "id": "0e9e39d8",
   "metadata": {},
   "outputs": [
    {
     "data": {
      "text/plain": [
       "[]"
      ]
     },
     "execution_count": 44,
     "metadata": {},
     "output_type": "execute_result"
    }
   ],
   "source": [
    "ls"
   ]
  },
  {
   "cell_type": "code",
   "execution_count": null,
   "id": "0686fd9d",
   "metadata": {},
   "outputs": [],
   "source": []
  }
 ],
 "metadata": {
  "kernelspec": {
   "display_name": "Python 3",
   "language": "python",
   "name": "python3"
  },
  "language_info": {
   "codemirror_mode": {
    "name": "ipython",
    "version": 3
   },
   "file_extension": ".py",
   "mimetype": "text/x-python",
   "name": "python",
   "nbconvert_exporter": "python",
   "pygments_lexer": "ipython3",
   "version": "3.6.13"
  }
 },
 "nbformat": 4,
 "nbformat_minor": 5
}
