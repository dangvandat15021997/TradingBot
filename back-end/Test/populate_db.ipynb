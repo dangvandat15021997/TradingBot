{
 "cells": [
  {
   "cell_type": "code",
   "execution_count": 2,
   "id": "96a72136",
   "metadata": {},
   "outputs": [],
   "source": [
    "import sys\n",
    "sys.path.append('../')\n",
    "from download import get_data\n",
    "from binance.client import Client\n",
    "import config\n",
    "import sqlite3 as sql\n",
    "\n",
    "def update_coin_pair():\n",
    "    #creat client\n",
    "    API_KEY = 'xVmi1a1kjLmsEPhpJGCGkw5ijfuJzNoKn5hHHnofKpuuURkzNfvBSCEYJC01DGNJ'\n",
    "    API_SECRET = 'rR0fc9MAzZysK9pCwJ6j4Bh27Kl7s8lzGqS4KCX8egWnTKdwpd4REVPwy3LSpXfi'\n",
    "    client = Client(API_KEY, API_SECRET, tld='us')\n",
    "\n",
    "    #create db conn\n",
    "    conn = sql.connect(config.DB_URL)\n",
    "    conn.row_factory = sql.Row\n",
    "    cursor = conn.cursor()\n",
    "\n",
    "\n",
    "    #create list exist symbol\n",
    "    select_query = '''SELECT DISTINCT symbol FROM coin_pair'''\n",
    "    cursor.execute(select_query)\n",
    "    rows = cursor.fetchall()\n",
    "    symbols_existed = [row['symbol'] for row in rows]\n",
    "\n",
    "\n",
    "    #insert query\n",
    "    insert_coin_pair = '''INSERT INTO coin_pair(symbol, interval) VALUES(?,?)'''\n",
    "    # print(symbols_existed)\n",
    "\n",
    "    #get exchange info\n",
    "    exchange_info = client.get_exchange_info()\n",
    "    #insert to db\n",
    "    for s in exchange_info['symbols']:\n",
    "        try:\n",
    "            if (s['symbol'][-4:].lower() == 'usdt') and (s['status'] == \"TRADING\") and (s['symbol'] not in symbols_existed):\n",
    "                for interval in config.KLINE_INTERVAL_LIST:\n",
    "                    conn.execute(insert_coin_pair, (s['symbol'], interval))   \n",
    "                    print(s['symbol'] + interval)\n",
    "        except Exception as e:\n",
    "            print('error')\n",
    "    conn.commit()\n",
    "\n",
    "if __name__ == '__main__':\n",
    "    update_coin_pair()"
   ]
  },
  {
   "cell_type": "code",
   "execution_count": 8,
   "id": "3cddd5e4",
   "metadata": {},
   "outputs": [],
   "source": [
    "import config"
   ]
  },
  {
   "cell_type": "code",
   "execution_count": 3,
   "id": "eb8c9576",
   "metadata": {},
   "outputs": [
    {
     "data": {
      "text/plain": [
       "'C:\\\\Users\\\\X_X\\\\Desktop\\\\TraddingBot\\\\app.db'"
      ]
     },
     "execution_count": 3,
     "metadata": {},
     "output_type": "execute_result"
    }
   ],
   "source": [
    "config.DB_URL"
   ]
  },
  {
   "cell_type": "code",
   "execution_count": 4,
   "id": "f065e8bc",
   "metadata": {},
   "outputs": [
    {
     "data": {
      "text/plain": [
       "'xVmi1a1kjLmsEPhpJGCGkw5ijfuJzNoKn5hHHnofKpuuURkzNfvBSCEYJC01DGNJ'"
      ]
     },
     "execution_count": 4,
     "metadata": {},
     "output_type": "execute_result"
    }
   ],
   "source": [
    "config.API_KEY"
   ]
  },
  {
   "cell_type": "code",
   "execution_count": 5,
   "id": "2b21ccd9",
   "metadata": {},
   "outputs": [
    {
     "data": {
      "text/plain": [
       "'rR0fc9MAzZysK9pCwJ6j4Bh27Kl7s8lzGqS4KCX8egWnTKdwpd4REVPwy3LSpXfi'"
      ]
     },
     "execution_count": 5,
     "metadata": {},
     "output_type": "execute_result"
    }
   ],
   "source": [
    "config.API_SECRET"
   ]
  },
  {
   "cell_type": "code",
   "execution_count": 1,
   "id": "2f68a4ce",
   "metadata": {},
   "outputs": [
    {
     "ename": "NameError",
     "evalue": "name 'config' is not defined",
     "output_type": "error",
     "traceback": [
      "\u001b[1;31m---------------------------------------------------------------------------\u001b[0m",
      "\u001b[1;31mNameError\u001b[0m                                 Traceback (most recent call last)",
      "\u001b[1;32m<ipython-input-1-1c76e1859eb9>\u001b[0m in \u001b[0;36m<module>\u001b[1;34m\u001b[0m\n\u001b[1;32m----> 1\u001b[1;33m \u001b[0mconfig\u001b[0m\u001b[1;33m.\u001b[0m\u001b[0mKLINE_INTERVAL_LIST\u001b[0m\u001b[1;33m\u001b[0m\u001b[1;33m\u001b[0m\u001b[0m\n\u001b[0m",
      "\u001b[1;31mNameError\u001b[0m: name 'config' is not defined"
     ]
    }
   ],
   "source": [
    "config.KLINE_INTERVAL_LIST"
   ]
  },
  {
   "cell_type": "code",
   "execution_count": null,
   "id": "b0a23c0e",
   "metadata": {},
   "outputs": [],
   "source": []
  }
 ],
 "metadata": {
  "kernelspec": {
   "display_name": "Python 3",
   "language": "python",
   "name": "python3"
  },
  "language_info": {
   "codemirror_mode": {
    "name": "ipython",
    "version": 3
   },
   "file_extension": ".py",
   "mimetype": "text/x-python",
   "name": "python",
   "nbconvert_exporter": "python",
   "pygments_lexer": "ipython3",
   "version": "3.6.13"
  }
 },
 "nbformat": 4,
 "nbformat_minor": 5
}
