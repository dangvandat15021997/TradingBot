{
 "cells": [
  {
   "cell_type": "code",
   "execution_count": 2,
   "id": "96428d04",
   "metadata": {},
   "outputs": [],
   "source": [
    "import sys\n",
    "sys.path.append(\"../\")\n",
    "\n",
    "import backtrader as bt\n",
    "from download import get_data\n",
    "import datetime as dt\n",
    "import talib as ta"
   ]
  },
  {
   "cell_type": "code",
   "execution_count": 143,
   "id": "2b56c1c7",
   "metadata": {},
   "outputs": [],
   "source": [
    "INTERVAl = '4h'\n",
    "SYMBOL = 'btcusdt'\n",
    "STARTTIME = dt.datetime(2017, 8, 31)\n",
    "ENDTIME = dt.datetime.now()\n",
    "\n",
    "\n",
    "data  = get_data(SYMBOL.upper(), INTERVAl, STARTTIME , ENDTIME)\n"
   ]
  },
  {
   "cell_type": "code",
   "execution_count": 236,
   "id": "e1ca1201",
   "metadata": {},
   "outputs": [],
   "source": [
    "class EMA_200_SIGNAL(bt.Strategy):\n",
    "    params = dict(\n",
    "        period=200, \n",
    "        interval = '1d'\n",
    "    )\n",
    "    \n",
    "    def __init__(self):\n",
    "        self.sma = bt.ind.EMA(self.data.close, period=self.p.period)  # fast moving average\n",
    "        self.signal = bt.If(bt.And(self.datas[0].close > self.sma, self.datas[0].close > self.sma), 1, 0)\n",
    "\n"
   ]
  },
  {
   "cell_type": "code",
   "execution_count": 100,
   "id": "fde67322",
   "metadata": {},
   "outputs": [],
   "source": [
    "if __name__ == '__main__':\n",
    "    cerebro = bt.Cerebro()  # create a \"Cerebro\" engine instance\n",
    "    test = {'dataname' : data, 'name' : 'btcusdt1'}\n",
    "\n",
    "    # Create a data feed\n",
    "    data_feed1 = bt.feeds.PandasData(**test)\n",
    "\n",
    "\n",
    "    cerebro.adddata(data_feed1)  # Add the data feed\n",
    " \n",
    "    cerebro.addstrategy(EMA_200_SIGNAL, period = 200, forLiveTrade = True)  # Add the trading strategy\n",
    "    result = cerebro.run()  # run it all"
   ]
  },
  {
   "cell_type": "code",
   "execution_count": 58,
   "id": "e02a3382",
   "metadata": {},
   "outputs": [
    {
     "data": {
      "text/plain": [
       "{'btcusdt': 0.0}"
      ]
     },
     "execution_count": 58,
     "metadata": {},
     "output_type": "execute_result"
    }
   ],
   "source": []
  },
  {
   "cell_type": "code",
   "execution_count": 66,
   "id": "d754d181",
   "metadata": {},
   "outputs": [],
   "source": [
    "import sqlite3 as sql\n",
    "import config\n",
    "import pandas as pd"
   ]
  },
  {
   "cell_type": "code",
   "execution_count": 77,
   "id": "e6ff33f0",
   "metadata": {},
   "outputs": [],
   "source": [
    "def fetchAsPandas(query, *params):\n",
    "    list_params = []\n",
    "    for param in params:\n",
    "        list_params.append(param)\n",
    "    \n",
    "    conn = sql.connect(config.DB_URL)\n",
    "    cur = conn.cursor()\n",
    "    query_result = cur.execute(query, list_params)\n",
    "    cols = [column[0] for column in query_result.description]\n",
    "    results= pd.DataFrame.from_records(data = query_result.fetchall(), columns = cols)\n",
    "    conn.close()\n",
    "    \n",
    "    return results"
   ]
  },
  {
   "cell_type": "code",
   "execution_count": 197,
   "id": "90206283",
   "metadata": {},
   "outputs": [],
   "source": [
    "def fetch_coin_pair_as_pandas(symbol, interval):\n",
    "    symbol = symbol.upper()\n",
    "    select_query = '''SELECT open_time as datetime, open, high, low, close, volume \n",
    "                   from coin_pair a inner join coin_price b on (a.id = b.id_coin_pair)\n",
    "                   where symbol = ? and interval = ? '''\n",
    "    result = fetchAsPandas(select_query, symbol, interval)\n",
    "    result['datetime'] = result['datetime'].apply(lambda x: pd.to_datetime(x))\n",
    "    result = result.set_index('datetime')\n",
    "    \n",
    "    return result\n",
    "    "
   ]
  },
  {
   "cell_type": "code",
   "execution_count": 208,
   "id": "f8781f99",
   "metadata": {},
   "outputs": [],
   "source": [
    "def create_coin_price_dataFeed(symbol, interval):\n",
    "    data = fetch_coin_pair_as_pandas(symbol, interval)\n",
    "    name = symbol.upper()+ '_' + interval.upper()\n",
    "    return bt.feeds.PandasData(dataname = data, name = name)"
   ]
  },
  {
   "cell_type": "code",
   "execution_count": 231,
   "id": "fc3f25b3",
   "metadata": {},
   "outputs": [],
   "source": [
    "if __name__ == '__main__':\n",
    "    cerebro = bt.Cerebro()  # create a \"Cerebro\" engine instance\n",
    "\n",
    "\n",
    "    # Create a data feed\n",
    "    data_feed = create_coin_price_dataFeed('btcusdt', '4h')\n",
    "\n",
    "\n",
    "    cerebro.adddata(data_feed)  # Add the data feed\n",
    " \n",
    "    cerebro.addstrategy(EMA_200_SIGNAL, period = 200)  # Add the trading strategy\n",
    "    result = cerebro.run()  # run it all"
   ]
  },
  {
   "cell_type": "code",
   "execution_count": 234,
   "id": "b50114bc",
   "metadata": {},
   "outputs": [
    {
     "data": {
      "text/plain": [
       "nan"
      ]
     },
     "execution_count": 234,
     "metadata": {},
     "output_type": "execute_result"
    }
   ],
   "source": [
    "result[0].signal[-1]"
   ]
  },
  {
   "cell_type": "code",
   "execution_count": 212,
   "id": "6d5cf9bf",
   "metadata": {},
   "outputs": [],
   "source": [
    "def get_all_dataFeed(interval):\n",
    "    \n",
    "    conn = sql.connect(config.DB_URL)\n",
    "    conn.row_factory = sql.Row\n",
    "    cur = conn.cursor()\n",
    "    \n",
    "    select_query = \"SELECT DISTINCT symbol FROM coin_pair where interval = ?\"\n",
    "    rows = cur.execute(select_query, (interval, ))\n",
    "    result_list = []\n",
    "    for row in rows:\n",
    "        new_dataFeed = create_coin_price_dataFeed(row['symbol'], interval)\n",
    "        result_list.append(new_dataFeed)\n",
    "    \n",
    "    conn.close()\n",
    "    \n",
    "    return result_list"
   ]
  },
  {
   "cell_type": "code",
   "execution_count": 213,
   "id": "33f73534",
   "metadata": {},
   "outputs": [],
   "source": [
    "datafeed_list = get_all_dataFeed('1d')"
   ]
  },
  {
   "cell_type": "code",
   "execution_count": 225,
   "id": "abd8b553",
   "metadata": {},
   "outputs": [],
   "source": [
    "if __name__ == '__main__':\n",
    "    cerebro = bt.Cerebro()  # create a \"Cerebro\" engine instance\n",
    "\n",
    "    datafeed_list\n",
    "    # Create a data feed\n",
    "\n",
    "    for data_feed in datafeed_list:\n",
    "        cerebro.adddata(data_feed)  # Add the data feed\n",
    " \n",
    "    cerebro.addstrategy(EMA_200_SIGNAL, period = 200)  # Add the trading strategy\n",
    "    result = cerebro.run()  # run it all"
   ]
  },
  {
   "cell_type": "code",
   "execution_count": 228,
   "id": "a9b12694",
   "metadata": {},
   "outputs": [
    {
     "data": {
      "text/plain": [
       "<backtrader.functions.If at 0x21579be5710>"
      ]
     },
     "execution_count": 228,
     "metadata": {},
     "output_type": "execute_result"
    }
   ],
   "source": [
    "result[0].signal"
   ]
  },
  {
   "cell_type": "code",
   "execution_count": 248,
   "id": "a0db97a6",
   "metadata": {},
   "outputs": [],
   "source": [
    "def check_signal(signal_name):\n",
    "    # create a \"Cerebro\" engine instance\n",
    "    interval = signal_name.params.interval\n",
    "    datafeed_list = get_all_dataFeed(interval)\n",
    "    symbol_selected = []\n",
    "    # Create a data feed\n",
    "\n",
    "    for data_feed in datafeed_list:\n",
    "        cerebro = bt.Cerebro() \n",
    "        cerebro.adddata(data_feed)  # Add the data feed\n",
    "        cerebro.addstrategy(signal_name)  # Add the trading strategy\n",
    "        result = cerebro.run()  # run it all\n",
    "        symbol = result[0].getdatanames()[0]\n",
    "        print(symbol)\n",
    "        \n",
    "        if result[0].signal[0] == 1:\n",
    "            symbol_selected.append(symbol)\n",
    "        \n",
    "    \n",
    "    return symbol_selected "
   ]
  },
  {
   "cell_type": "code",
   "execution_count": 249,
   "id": "0c197b67",
   "metadata": {},
   "outputs": [
    {
     "name": "stdout",
     "output_type": "stream",
     "text": [
      "BTCUSDT_1D\n",
      "ETHUSDT_1D\n",
      "BCHUSDT_1D\n",
      "LTCUSDT_1D\n",
      "BNBUSDT_1D\n",
      "ADAUSDT_1D\n",
      "BATUSDT_1D\n",
      "ETCUSDT_1D\n",
      "XLMUSDT_1D\n",
      "ZRXUSDT_1D\n",
      "DOGEUSDT_1D\n",
      "ATOMUSDT_1D\n",
      "NEOUSDT_1D\n",
      "VETUSDT_1D\n",
      "QTUMUSDT_1D\n",
      "ONTUSDT_1D\n",
      "KNCUSDT_1D\n",
      "VTHOUSDT_1D\n",
      "COMPUSDT_1D\n",
      "HNTUSDT_1D\n",
      "MKRUSDT_1D\n",
      "ONEUSDT_1D\n",
      "BANDUSDT_1D\n",
      "STORJUSDT_1D\n",
      "BUSDUSDT_1D\n",
      "UNIUSDT_1D\n",
      "SOLUSDT_1D\n",
      "EGLDUSDT_1D\n",
      "PAXGUSDT_1D\n",
      "OXTUSDT_1D\n",
      "ZENUSDT_1D\n",
      "FILUSDT_1D\n",
      "AAVEUSDT_1D\n"
     ]
    }
   ],
   "source": [
    "a = check_signal(EMA_200_SIGNAL)\n",
    "# from_date to date"
   ]
  },
  {
   "cell_type": "code",
   "execution_count": 251,
   "id": "1942f01e",
   "metadata": {},
   "outputs": [
    {
     "data": {
      "text/plain": [
       "['BNBUSDT_1D',\n",
       " 'ADAUSDT_1D',\n",
       " 'ETCUSDT_1D',\n",
       " 'HNTUSDT_1D',\n",
       " 'BUSDUSDT_1D',\n",
       " 'SOLUSDT_1D']"
      ]
     },
     "execution_count": 251,
     "metadata": {},
     "output_type": "execute_result"
    }
   ],
   "source": [
    "a"
   ]
  },
  {
   "cell_type": "code",
   "execution_count": null,
   "id": "5606bb03",
   "metadata": {},
   "outputs": [],
   "source": []
  }
 ],
 "metadata": {
  "kernelspec": {
   "display_name": "Python 3",
   "language": "python",
   "name": "python3"
  },
  "language_info": {
   "codemirror_mode": {
    "name": "ipython",
    "version": 3
   },
   "file_extension": ".py",
   "mimetype": "text/x-python",
   "name": "python",
   "nbconvert_exporter": "python",
   "pygments_lexer": "ipython3",
   "version": "3.6.13"
  }
 },
 "nbformat": 4,
 "nbformat_minor": 5
}
