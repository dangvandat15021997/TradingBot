{
 "cells": [
  {
   "cell_type": "code",
   "execution_count": 9,
   "id": "b113fd96",
   "metadata": {},
   "outputs": [],
   "source": [
    "from datafeed import *"
   ]
  },
  {
   "cell_type": "code",
   "execution_count": 28,
   "id": "a50f5213",
   "metadata": {},
   "outputs": [],
   "source": [
    "import sqlite3 as sql\n",
    "import config\n",
    "import sys\n",
    "sys.path.append(\"../\")\n",
    "sys.path.append(\"C:\\\\Users\\\\X_X\\\\Desktop\\\\TraddingBot\\\\back_end\\\\\")\n",
    "sys.path.append('C:\\\\Users\\\\X_X\\\\Desktop\\\\TraddingBot\\\\back-end\\\\signals')\n",
    "sys.path.append('C:\\\\Users\\\\X_X\\\\Desktop\\\\TraddingBot\\\\back-end\\\\signals\\\\backtrader_signal')\n",
    "sys.path.append('C:\\\\Users\\\\X_X\\\\Desktop\\\\TraddingBot\\\\back-end\\\\backtrader')\n",
    "\n",
    "\n",
    "import backtrader as bt\n",
    "import sqlite3 as sql\n",
    "import config\n",
    "import pandas as pd\n",
    "\n",
    "from EMA import EMA\n",
    "\n",
    "def fetchAsPandas(query, *params):\n",
    "    list_params = []\n",
    "    for param in params:\n",
    "        list_params.append(param)\n",
    "    \n",
    "    conn = sql.connect(config.DB_URL, detect_types=sql.PARSE_DECLTYPES)\n",
    "    cur = conn.cursor()\n",
    "    query_result = cur.execute(query, list_params)\n",
    "    cols = [column[0] for column in query_result.description]\n",
    "    results= pd.DataFrame.from_records(data = query_result.fetchall(), columns = cols)\n",
    "    conn.close()\n",
    "    \n",
    "    return results\n",
    "\n",
    "def fetch_coin_price_as_pandas(symbol, interval):\n",
    "    symbol = symbol.upper()\n",
    "    select_query = '''SELECT open_time as datetime, open, high, low, close, volume \n",
    "                   from coin_pair a inner join coin_price b on (a.id = b.id_coin_pair)\n",
    "                   where symbol = ? and interval = ? '''\n",
    "    result = fetchAsPandas(select_query, symbol, interval)\n",
    "    result = result.set_index('datetime')\n",
    "    \n",
    "    return result\n",
    "\n",
    "def create_coin_price_dataFeed(symbol, interval, **kwargs):\n",
    "    data = fetch_coin_price_as_pandas(symbol, interval)\n",
    "    name = symbol.upper()+ '_' + interval.upper()\n",
    "    \n",
    "    return bt.feeds.PandasData(dataname = data, name = name, **kwargs)\n",
    "\n",
    "def get_all_dataFeed(interval, **kwargs):\n",
    "    \n",
    "    conn = sql.connect(config.DB_URL)\n",
    "    conn.row_factory = sql.Row\n",
    "    cur = conn.cursor()\n",
    "    \n",
    "    select_query = \"SELECT DISTINCT symbol FROM coin_pair where interval = ?\"\n",
    "    rows = cur.execute(select_query, (interval, ))\n",
    "    result_list = []\n",
    "    \n",
    "    \n",
    "    for row in rows:\n",
    "        new_dataFeed = create_coin_price_dataFeed(row['symbol'], interval, **kwargs)\n",
    "        result_list.append(new_dataFeed)\n",
    "    \n",
    "    conn.close()\n",
    "    \n",
    "    return result_list"
   ]
  },
  {
   "cell_type": "code",
   "execution_count": 36,
   "id": "0c8b124a",
   "metadata": {},
   "outputs": [
    {
     "name": "stdout",
     "output_type": "stream",
     "text": [
      "Time execution 2: 0.02127450000079989\n",
      "Time execution 3: 0.303019700000732\n",
      "Time execution 4: 9.130000034929253e-05\n",
      "Time execution 1: 0.32481279999956314\n"
     ]
    }
   ],
   "source": [
    "import time \n",
    "symbol ='btcusdt'\n",
    "interval = '1d'\n",
    "start_time_1 = time.clock()\n",
    "\n",
    "data_feed = create_coin_price_dataFeed('BTCUSDT', '1d')\n",
    "print(f'Time execution 2: {time.clock() - start_time_1}')\n",
    "# Create a data feed\n",
    "start_time_3 = time.clock()\n",
    "cerebro = bt.Cerebro() \n",
    "cerebro.adddata(data_feed)  # Add the data feed\n",
    "cerebro.addstrategy(EMA)  # Add the trading strategy\n",
    "result = cerebro.run(stdstats=False)  # run it all\n",
    "check = None\n",
    "print(f'Time execution 3: {time.clock() - start_time_3}')\n",
    "\n",
    "start_time_4 = time.clock()\n",
    "if (result[0].signal[0] == 1):\n",
    "    check = True\n",
    "else :\n",
    "    check = False\n",
    "print(f'Time execution 4: {time.clock() - start_time_4}')\n",
    "\n",
    "\n",
    "print(f'Time execution 1: {time.clock() - start_time_1}')"
   ]
  },
  {
   "cell_type": "code",
   "execution_count": 24,
   "id": "16e3a038",
   "metadata": {},
   "outputs": [
    {
     "name": "stdout",
     "output_type": "stream",
     "text": [
      "Time execution 1: 0.024110599999403348\n"
     ]
    }
   ],
   "source": [
    "import time \n",
    "symbol ='btcusdt'\n",
    "interval = '1d'\n",
    "start_time = time.clock()\n",
    "create_coin_price_dataFeed(symbol, interval)\n",
    "print(f'Time execution 1: {time.clock() - start_time}')"
   ]
  },
  {
   "cell_type": "code",
   "execution_count": 6,
   "id": "5ef38a64",
   "metadata": {},
   "outputs": [
    {
     "name": "stdout",
     "output_type": "stream",
     "text": [
      "2017-08-17 04:00:00\n"
     ]
    }
   ],
   "source": [
    "print(row['open_time'])"
   ]
  },
  {
   "cell_type": "code",
   "execution_count": 15,
   "id": "c795411a",
   "metadata": {},
   "outputs": [],
   "source": [
    "def create_coin_price_dataFeed(symbol, interval, **kwargs):\n",
    "    data = fetch_coin_price_as_pandas(symbol, interval)\n",
    "    name = symbol.upper()+ '_' + interval.upper()\n",
    "    \n",
    "    return bt.feeds.PandasData(dataname = data, name = name, **kwargs)\n"
   ]
  },
  {
   "cell_type": "code",
   "execution_count": null,
   "id": "ab914996",
   "metadata": {},
   "outputs": [],
   "source": []
  }
 ],
 "metadata": {
  "kernelspec": {
   "display_name": "Python 3",
   "language": "python",
   "name": "python3"
  },
  "language_info": {
   "codemirror_mode": {
    "name": "ipython",
    "version": 3
   },
   "file_extension": ".py",
   "mimetype": "text/x-python",
   "name": "python",
   "nbconvert_exporter": "python",
   "pygments_lexer": "ipython3",
   "version": "3.6.13"
  }
 },
 "nbformat": 4,
 "nbformat_minor": 5
}
