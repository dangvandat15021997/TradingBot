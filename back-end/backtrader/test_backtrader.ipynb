{
 "cells": [
  {
   "cell_type": "code",
   "execution_count": 2,
   "id": "8d42de82",
   "metadata": {},
   "outputs": [],
   "source": [
    "import sys\n",
    "sys.path.append(\"../\")\n",
    "\n",
    "import backtrader as bt\n",
    "from download import get_data\n",
    "import datetime as dt\n",
    "import talib as ta\n"
   ]
  },
  {
   "cell_type": "code",
   "execution_count": 3,
   "id": "ee8680f4",
   "metadata": {},
   "outputs": [],
   "source": [
    "INTERVAl = '4h'\n",
    "SYMBOL = 'adausdt'\n",
    "STARTTIME = dt.datetime(2017, 8, 31)\n",
    "ENDTIME = dt.datetime.now()\n",
    "IN_POSITION = False\n",
    "\n",
    "data  = get_data(SYMBOL.upper(), INTERVAl, STARTTIME , ENDTIME)\n"
   ]
  },
  {
   "cell_type": "code",
   "execution_count": 4,
   "id": "d03fe8d6",
   "metadata": {},
   "outputs": [
    {
     "data": {
      "text/html": [
       "<div>\n",
       "<style scoped>\n",
       "    .dataframe tbody tr th:only-of-type {\n",
       "        vertical-align: middle;\n",
       "    }\n",
       "\n",
       "    .dataframe tbody tr th {\n",
       "        vertical-align: top;\n",
       "    }\n",
       "\n",
       "    .dataframe thead th {\n",
       "        text-align: right;\n",
       "    }\n",
       "</style>\n",
       "<table border=\"1\" class=\"dataframe\">\n",
       "  <thead>\n",
       "    <tr style=\"text-align: right;\">\n",
       "      <th></th>\n",
       "      <th>open</th>\n",
       "      <th>high</th>\n",
       "      <th>low</th>\n",
       "      <th>close</th>\n",
       "      <th>volume</th>\n",
       "      <th>close_time</th>\n",
       "      <th>quote_asset_volume</th>\n",
       "      <th>num_of_trades</th>\n",
       "      <th>taker_buy_base</th>\n",
       "      <th>taker_buy_quote</th>\n",
       "    </tr>\n",
       "    <tr>\n",
       "      <th>open_time</th>\n",
       "      <th></th>\n",
       "      <th></th>\n",
       "      <th></th>\n",
       "      <th></th>\n",
       "      <th></th>\n",
       "      <th></th>\n",
       "      <th></th>\n",
       "      <th></th>\n",
       "      <th></th>\n",
       "      <th></th>\n",
       "    </tr>\n",
       "  </thead>\n",
       "  <tbody>\n",
       "    <tr>\n",
       "      <th>2018-04-17 04:00:00</th>\n",
       "      <td>0.25551</td>\n",
       "      <td>0.2880</td>\n",
       "      <td>0.24800</td>\n",
       "      <td>0.25698</td>\n",
       "      <td>29567756.16</td>\n",
       "      <td>2018-04-17 07:59:59.999</td>\n",
       "      <td>7.770296e+06</td>\n",
       "      <td>17419</td>\n",
       "      <td>11978707.89</td>\n",
       "      <td>3.146120e+06</td>\n",
       "    </tr>\n",
       "    <tr>\n",
       "      <th>2018-04-17 08:00:00</th>\n",
       "      <td>0.25636</td>\n",
       "      <td>0.2620</td>\n",
       "      <td>0.25229</td>\n",
       "      <td>0.26129</td>\n",
       "      <td>10304292.91</td>\n",
       "      <td>2018-04-17 11:59:59.999</td>\n",
       "      <td>2.638549e+06</td>\n",
       "      <td>7218</td>\n",
       "      <td>4720436.54</td>\n",
       "      <td>1.210593e+06</td>\n",
       "    </tr>\n",
       "    <tr>\n",
       "      <th>2018-04-17 12:00:00</th>\n",
       "      <td>0.26097</td>\n",
       "      <td>0.2666</td>\n",
       "      <td>0.25400</td>\n",
       "      <td>0.25570</td>\n",
       "      <td>10148285.89</td>\n",
       "      <td>2018-04-17 15:59:59.999</td>\n",
       "      <td>2.625652e+06</td>\n",
       "      <td>6895</td>\n",
       "      <td>3671178.28</td>\n",
       "      <td>9.524770e+05</td>\n",
       "    </tr>\n",
       "    <tr>\n",
       "      <th>2018-04-17 16:00:00</th>\n",
       "      <td>0.25570</td>\n",
       "      <td>0.2580</td>\n",
       "      <td>0.24800</td>\n",
       "      <td>0.25067</td>\n",
       "      <td>10342675.00</td>\n",
       "      <td>2018-04-17 19:59:59.999</td>\n",
       "      <td>2.615560e+06</td>\n",
       "      <td>6097</td>\n",
       "      <td>4624169.86</td>\n",
       "      <td>1.169097e+06</td>\n",
       "    </tr>\n",
       "    <tr>\n",
       "      <th>2018-04-17 20:00:00</th>\n",
       "      <td>0.25067</td>\n",
       "      <td>0.2550</td>\n",
       "      <td>0.23983</td>\n",
       "      <td>0.24260</td>\n",
       "      <td>7099283.28</td>\n",
       "      <td>2018-04-17 23:59:59.999</td>\n",
       "      <td>1.761766e+06</td>\n",
       "      <td>4939</td>\n",
       "      <td>3234172.82</td>\n",
       "      <td>8.032269e+05</td>\n",
       "    </tr>\n",
       "    <tr>\n",
       "      <th>...</th>\n",
       "      <td>...</td>\n",
       "      <td>...</td>\n",
       "      <td>...</td>\n",
       "      <td>...</td>\n",
       "      <td>...</td>\n",
       "      <td>...</td>\n",
       "      <td>...</td>\n",
       "      <td>...</td>\n",
       "      <td>...</td>\n",
       "      <td>...</td>\n",
       "    </tr>\n",
       "    <tr>\n",
       "      <th>2021-08-03 08:00:00</th>\n",
       "      <td>1.30110</td>\n",
       "      <td>1.3081</td>\n",
       "      <td>1.28550</td>\n",
       "      <td>1.29420</td>\n",
       "      <td>19805470.20</td>\n",
       "      <td>2021-08-03 11:59:59.999</td>\n",
       "      <td>2.568977e+07</td>\n",
       "      <td>89079</td>\n",
       "      <td>9868944.28</td>\n",
       "      <td>1.280292e+07</td>\n",
       "    </tr>\n",
       "    <tr>\n",
       "      <th>2021-08-03 12:00:00</th>\n",
       "      <td>1.29420</td>\n",
       "      <td>1.3675</td>\n",
       "      <td>1.28000</td>\n",
       "      <td>1.33850</td>\n",
       "      <td>79335492.86</td>\n",
       "      <td>2021-08-03 15:59:59.999</td>\n",
       "      <td>1.060034e+08</td>\n",
       "      <td>175836</td>\n",
       "      <td>39577819.08</td>\n",
       "      <td>5.288702e+07</td>\n",
       "    </tr>\n",
       "    <tr>\n",
       "      <th>2021-08-03 16:00:00</th>\n",
       "      <td>1.33850</td>\n",
       "      <td>1.3790</td>\n",
       "      <td>1.33490</td>\n",
       "      <td>1.36640</td>\n",
       "      <td>56210089.39</td>\n",
       "      <td>2021-08-03 19:59:59.999</td>\n",
       "      <td>7.645875e+07</td>\n",
       "      <td>272476</td>\n",
       "      <td>28548910.84</td>\n",
       "      <td>3.883878e+07</td>\n",
       "    </tr>\n",
       "    <tr>\n",
       "      <th>2021-08-03 20:00:00</th>\n",
       "      <td>1.36640</td>\n",
       "      <td>1.3827</td>\n",
       "      <td>1.35870</td>\n",
       "      <td>1.36960</td>\n",
       "      <td>35967967.94</td>\n",
       "      <td>2021-08-03 23:59:59.999</td>\n",
       "      <td>4.931969e+07</td>\n",
       "      <td>239568</td>\n",
       "      <td>17834656.08</td>\n",
       "      <td>2.446059e+07</td>\n",
       "    </tr>\n",
       "    <tr>\n",
       "      <th>2021-08-04 00:00:00</th>\n",
       "      <td>1.36970</td>\n",
       "      <td>1.3747</td>\n",
       "      <td>1.33870</td>\n",
       "      <td>1.34090</td>\n",
       "      <td>28366995.38</td>\n",
       "      <td>2021-08-04 03:59:59.999</td>\n",
       "      <td>3.833850e+07</td>\n",
       "      <td>120507</td>\n",
       "      <td>12838036.99</td>\n",
       "      <td>1.735271e+07</td>\n",
       "    </tr>\n",
       "  </tbody>\n",
       "</table>\n",
       "<p>7221 rows × 10 columns</p>\n",
       "</div>"
      ],
      "text/plain": [
       "                        open    high      low    close       volume  \\\n",
       "open_time                                                             \n",
       "2018-04-17 04:00:00  0.25551  0.2880  0.24800  0.25698  29567756.16   \n",
       "2018-04-17 08:00:00  0.25636  0.2620  0.25229  0.26129  10304292.91   \n",
       "2018-04-17 12:00:00  0.26097  0.2666  0.25400  0.25570  10148285.89   \n",
       "2018-04-17 16:00:00  0.25570  0.2580  0.24800  0.25067  10342675.00   \n",
       "2018-04-17 20:00:00  0.25067  0.2550  0.23983  0.24260   7099283.28   \n",
       "...                      ...     ...      ...      ...          ...   \n",
       "2021-08-03 08:00:00  1.30110  1.3081  1.28550  1.29420  19805470.20   \n",
       "2021-08-03 12:00:00  1.29420  1.3675  1.28000  1.33850  79335492.86   \n",
       "2021-08-03 16:00:00  1.33850  1.3790  1.33490  1.36640  56210089.39   \n",
       "2021-08-03 20:00:00  1.36640  1.3827  1.35870  1.36960  35967967.94   \n",
       "2021-08-04 00:00:00  1.36970  1.3747  1.33870  1.34090  28366995.38   \n",
       "\n",
       "                                 close_time  quote_asset_volume  \\\n",
       "open_time                                                         \n",
       "2018-04-17 04:00:00 2018-04-17 07:59:59.999        7.770296e+06   \n",
       "2018-04-17 08:00:00 2018-04-17 11:59:59.999        2.638549e+06   \n",
       "2018-04-17 12:00:00 2018-04-17 15:59:59.999        2.625652e+06   \n",
       "2018-04-17 16:00:00 2018-04-17 19:59:59.999        2.615560e+06   \n",
       "2018-04-17 20:00:00 2018-04-17 23:59:59.999        1.761766e+06   \n",
       "...                                     ...                 ...   \n",
       "2021-08-03 08:00:00 2021-08-03 11:59:59.999        2.568977e+07   \n",
       "2021-08-03 12:00:00 2021-08-03 15:59:59.999        1.060034e+08   \n",
       "2021-08-03 16:00:00 2021-08-03 19:59:59.999        7.645875e+07   \n",
       "2021-08-03 20:00:00 2021-08-03 23:59:59.999        4.931969e+07   \n",
       "2021-08-04 00:00:00 2021-08-04 03:59:59.999        3.833850e+07   \n",
       "\n",
       "                     num_of_trades  taker_buy_base  taker_buy_quote  \n",
       "open_time                                                            \n",
       "2018-04-17 04:00:00          17419     11978707.89     3.146120e+06  \n",
       "2018-04-17 08:00:00           7218      4720436.54     1.210593e+06  \n",
       "2018-04-17 12:00:00           6895      3671178.28     9.524770e+05  \n",
       "2018-04-17 16:00:00           6097      4624169.86     1.169097e+06  \n",
       "2018-04-17 20:00:00           4939      3234172.82     8.032269e+05  \n",
       "...                            ...             ...              ...  \n",
       "2021-08-03 08:00:00          89079      9868944.28     1.280292e+07  \n",
       "2021-08-03 12:00:00         175836     39577819.08     5.288702e+07  \n",
       "2021-08-03 16:00:00         272476     28548910.84     3.883878e+07  \n",
       "2021-08-03 20:00:00         239568     17834656.08     2.446059e+07  \n",
       "2021-08-04 00:00:00         120507     12838036.99     1.735271e+07  \n",
       "\n",
       "[7221 rows x 10 columns]"
      ]
     },
     "execution_count": 4,
     "metadata": {},
     "output_type": "execute_result"
    }
   ],
   "source": [
    "data"
   ]
  },
  {
   "cell_type": "code",
   "execution_count": 6,
   "id": "07ca2054",
   "metadata": {
    "scrolled": true
   },
   "outputs": [],
   "source": [
    "class SmaCross(bt.Strategy):\n",
    "    # list of parameters which are configurable for the strategy\n",
    "    params = dict(\n",
    "        pfast=50,  # period for the fast moving average\n",
    "        pslow=200   # period for the slow moving average\n",
    "    )\n",
    "\n",
    "    def __init__(self):\n",
    "        self.order = None\n",
    "        sma1 = bt.ind.EMA(period=self.p.pfast)  # fast moving average\n",
    "        sma2 = bt.ind.EMA(period=self.p.pslow)  # slow moving average\n",
    "        self.crossover = bt.ind.CrossOver(sma1, sma2)  # crossover signal\n",
    "    \n",
    "    def log(self, txt, dt=None):\n",
    "        ''' Logging function fot this strategy'''\n",
    "        dt = dt or self.datas[0].datetime.date(0)\n",
    "        print('%s, %s' % (dt.isoformat(), txt))\n",
    "        \n",
    "    def notify_order(self, order):\n",
    "        if order.status in [order.Submitted, order.Accepted]:\n",
    "            # Buy/Sell order submitted/accepted to/by broker - Nothing to do\n",
    "            return\n",
    "\n",
    "        # Check if an order has been completed\n",
    "        # Attention: broker could reject order if not enough cash\n",
    "        if order.status in [order.Completed]:\n",
    "            if order.isbuy():\n",
    "                self.log(\n",
    "                    'BUY EXECUTED, Price: %.2f, Cost: %.2f, Comm %.2f' %\n",
    "                    (order.executed.price,\n",
    "                     order.executed.value,\n",
    "                     order.executed.comm))\n",
    "\n",
    "                self.buyprice = order.executed.price\n",
    "                self.buycomm = order.executed.comm\n",
    "            else:  # Sell\n",
    "                self.log('SELL EXECUTED, Price: %.2f, Cost: %.2f, Comm %.2f' %\n",
    "                         (order.executed.price,\n",
    "                          order.executed.value,\n",
    "                          order.executed.comm))\n",
    "\n",
    "        elif order.status in [order.Canceled, order.Margin, order.Rejected]:\n",
    "            self.log('Order Canceled/Margin/Rejected')\n",
    "\n",
    "        # Write down: no pending order\n",
    "        self.order = None\n",
    "\n",
    "    def notify_trade(self, trade):\n",
    "        if not trade.isclosed:\n",
    "            return\n",
    "\n",
    "        self.log('OPERATION PROFIT, GROSS %.2f, NET %.2f' %\n",
    "                 (trade.pnl, trade.pnlcomm))\n",
    "\n",
    "    def next(self):\n",
    "        if not self.position:  # not in the market\n",
    "            if self.crossover > 0:  # if fast crosses slow to the upside\n",
    "                limit_price = self.datas[0].close\n",
    "                size = float()\n",
    "                self.buy()  # enter long\n",
    "\n",
    "        elif self.crossover < 0:  # in the market & cross to the downside\n",
    "            self.close()  # close long position\n",
    "\n",
    "\n",
    "            \n",
    "    \n",
    "# if __name__ == '__main__':\n",
    "#     cerebro = bt.Cerebro()  # create a \"Cerebro\" engine instance\n",
    "\n",
    "#     # Create a data feed\n",
    "#     data_feed = bt.feeds.PandasData(dataname=data)\n",
    "\n",
    "#     cerebro.adddata(data_feed)  # Add the data feed\n",
    "#     cerebro.broker.setcash(10)\n",
    "#     cerebro.broker.setcommission(commission=0.001)\n",
    "#     cerebro.addstrategy(SmaCross)  # Add the trading strategy\n",
    "#     cerebro.addanalyzer(bt.analyzers.DrawDown, _name=\"drawdown\")\n",
    "#     result = cerebro.run()  # run it all\n"
   ]
  },
  {
   "cell_type": "code",
   "execution_count": 10,
   "id": "e696abf2",
   "metadata": {},
   "outputs": [
    {
     "data": {
      "text/plain": [
       "50"
      ]
     },
     "execution_count": 10,
     "metadata": {},
     "output_type": "execute_result"
    }
   ],
   "source": [
    "SmaCross.params.pfast"
   ]
  },
  {
   "cell_type": "code",
   "execution_count": 32,
   "id": "5c5fd60f",
   "metadata": {},
   "outputs": [
    {
     "data": {
      "text/plain": [
       "738005.3333333334"
      ]
     },
     "execution_count": 32,
     "metadata": {},
     "output_type": "execute_result"
    }
   ],
   "source": [
    "SmaCro"
   ]
  },
  {
   "cell_type": "code",
   "execution_count": 33,
   "id": "34a75224",
   "metadata": {},
   "outputs": [
    {
     "data": {
      "text/plain": [
       "datetime.datetime(1993, 5, 22, 0, 28, 53, 333333)"
      ]
     },
     "execution_count": 33,
     "metadata": {},
     "output_type": "execute_result"
    }
   ],
   "source": [
    "from datetime import datetime\n",
    "datetime.fromtimestamp(a*1000)"
   ]
  },
  {
   "cell_type": "code",
   "execution_count": null,
   "id": "8de283dc",
   "metadata": {},
   "outputs": [],
   "source": []
  },
  {
   "cell_type": "code",
   "execution_count": null,
   "id": "61044553",
   "metadata": {},
   "outputs": [],
   "source": []
  },
  {
   "cell_type": "code",
   "execution_count": null,
   "id": "679f7aae",
   "metadata": {},
   "outputs": [],
   "source": []
  },
  {
   "cell_type": "code",
   "execution_count": null,
   "id": "fc1ef5d6",
   "metadata": {},
   "outputs": [],
   "source": []
  },
  {
   "cell_type": "code",
   "execution_count": null,
   "id": "bd8d4c22",
   "metadata": {},
   "outputs": [],
   "source": []
  },
  {
   "cell_type": "code",
   "execution_count": 7,
   "id": "38f424ca",
   "metadata": {},
   "outputs": [
    {
     "data": {
      "text/plain": [
       "[<__main__.SmaCross at 0x244a3bd6cf8>]"
      ]
     },
     "execution_count": 7,
     "metadata": {},
     "output_type": "execute_result"
    }
   ],
   "source": [
    "result"
   ]
  },
  {
   "cell_type": "code",
   "execution_count": null,
   "id": "4ca2a95d",
   "metadata": {},
   "outputs": [],
   "source": []
  },
  {
   "cell_type": "code",
   "execution_count": null,
   "id": "e5f0941f",
   "metadata": {},
   "outputs": [],
   "source": []
  },
  {
   "cell_type": "code",
   "execution_count": null,
   "id": "2310011e",
   "metadata": {},
   "outputs": [],
   "source": []
  },
  {
   "cell_type": "code",
   "execution_count": null,
   "id": "74c4ba4f",
   "metadata": {},
   "outputs": [],
   "source": []
  },
  {
   "cell_type": "code",
   "execution_count": null,
   "id": "e8a096e3",
   "metadata": {},
   "outputs": [],
   "source": []
  },
  {
   "cell_type": "code",
   "execution_count": null,
   "id": "a00b8674",
   "metadata": {},
   "outputs": [],
   "source": []
  },
  {
   "cell_type": "code",
   "execution_count": null,
   "id": "7829ee55",
   "metadata": {},
   "outputs": [],
   "source": []
  },
  {
   "cell_type": "code",
   "execution_count": 8,
   "id": "572b153f",
   "metadata": {},
   "outputs": [
    {
     "data": {
      "text/plain": [
       "1.3385"
      ]
     },
     "execution_count": 8,
     "metadata": {},
     "output_type": "execute_result"
    }
   ],
   "source": [
    "a"
   ]
  },
  {
   "cell_type": "code",
   "execution_count": null,
   "id": "82c960b8",
   "metadata": {},
   "outputs": [],
   "source": []
  },
  {
   "cell_type": "code",
   "execution_count": null,
   "id": "8a95d6d7",
   "metadata": {},
   "outputs": [],
   "source": []
  },
  {
   "cell_type": "code",
   "execution_count": null,
   "id": "57c6dd2c",
   "metadata": {},
   "outputs": [],
   "source": []
  },
  {
   "cell_type": "code",
   "execution_count": 9,
   "id": "493e2c8e",
   "metadata": {},
   "outputs": [
    {
     "ename": "NameError",
     "evalue": "name 'A' is not defined",
     "output_type": "error",
     "traceback": [
      "\u001b[1;31m---------------------------------------------------------------------------\u001b[0m",
      "\u001b[1;31mNameError\u001b[0m                                 Traceback (most recent call last)",
      "\u001b[1;32m<ipython-input-9-7d157d7c000a>\u001b[0m in \u001b[0;36m<module>\u001b[1;34m\u001b[0m\n\u001b[1;32m----> 1\u001b[1;33m \u001b[0mA\u001b[0m\u001b[1;33m\u001b[0m\u001b[1;33m\u001b[0m\u001b[0m\n\u001b[0m",
      "\u001b[1;31mNameError\u001b[0m: name 'A' is not defined"
     ]
    }
   ],
   "source": [
    "A"
   ]
  },
  {
   "cell_type": "code",
   "execution_count": null,
   "id": "159c72df",
   "metadata": {},
   "outputs": [],
   "source": [
    "A"
   ]
  },
  {
   "cell_type": "code",
   "execution_count": null,
   "id": "f91139c6",
   "metadata": {},
   "outputs": [],
   "source": [
    "A"
   ]
  },
  {
   "cell_type": "code",
   "execution_count": null,
   "id": "edca8617",
   "metadata": {},
   "outputs": [],
   "source": [
    "A"
   ]
  },
  {
   "cell_type": "code",
   "execution_count": null,
   "id": "4e9c50d6",
   "metadata": {},
   "outputs": [],
   "source": [
    "A"
   ]
  },
  {
   "cell_type": "code",
   "execution_count": null,
   "id": "7d7c4f32",
   "metadata": {},
   "outputs": [],
   "source": []
  }
 ],
 "metadata": {
  "kernelspec": {
   "display_name": "Python 3",
   "language": "python",
   "name": "python3"
  },
  "language_info": {
   "codemirror_mode": {
    "name": "ipython",
    "version": 3
   },
   "file_extension": ".py",
   "mimetype": "text/x-python",
   "name": "python",
   "nbconvert_exporter": "python",
   "pygments_lexer": "ipython3",
   "version": "3.6.13"
  }
 },
 "nbformat": 4,
 "nbformat_minor": 5
}
