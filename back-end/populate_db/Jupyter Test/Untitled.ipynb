{
 "cells": [
  {
   "cell_type": "code",
   "execution_count": 3,
   "id": "8eae5290",
   "metadata": {},
   "outputs": [],
   "source": [
    "import populate_db.update_coin_pair\n",
    "import populate_db.update_coin_price\n"
   ]
  },
  {
   "cell_type": "code",
   "execution_count": 5,
   "id": "b480ae6d",
   "metadata": {},
   "outputs": [
    {
     "ename": "SyntaxError",
     "evalue": "invalid syntax (<ipython-input-5-1d0ae2a106f5>, line 1)",
     "output_type": "error",
     "traceback": [
      "\u001b[1;36m  File \u001b[1;32m\"<ipython-input-5-1d0ae2a106f5>\"\u001b[1;36m, line \u001b[1;32m1\u001b[0m\n\u001b[1;33m    import update_coin_price from populate_db\u001b[0m\n\u001b[1;37m                                ^\u001b[0m\n\u001b[1;31mSyntaxError\u001b[0m\u001b[1;31m:\u001b[0m invalid syntax\n"
     ]
    }
   ],
   "source": [
    "import update_coin_price from populate_db"
   ]
  },
  {
   "cell_type": "code",
   "execution_count": 6,
   "id": "b8c3dc2f",
   "metadata": {},
   "outputs": [],
   "source": [
    "from populate_db.update_coin_price import update_coin_price"
   ]
  },
  {
   "cell_type": "code",
   "execution_count": null,
   "id": "42670322",
   "metadata": {},
   "outputs": [],
   "source": []
  }
 ],
 "metadata": {
  "kernelspec": {
   "display_name": "Python 3",
   "language": "python",
   "name": "python3"
  },
  "language_info": {
   "codemirror_mode": {
    "name": "ipython",
    "version": 3
   },
   "file_extension": ".py",
   "mimetype": "text/x-python",
   "name": "python",
   "nbconvert_exporter": "python",
   "pygments_lexer": "ipython3",
   "version": "3.6.13"
  }
 },
 "nbformat": 4,
 "nbformat_minor": 5
}
