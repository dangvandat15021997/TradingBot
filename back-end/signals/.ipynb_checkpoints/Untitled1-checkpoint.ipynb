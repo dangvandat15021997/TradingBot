{
 "cells": [
  {
   "cell_type": "code",
   "execution_count": 3,
   "id": "ea057804",
   "metadata": {},
   "outputs": [],
   "source": [
    "import sys\n",
    "sys.path.append('../')\n",
    "sys.path.append('./backtrader_signal')\n",
    "sys.path.append('../backtrader')\n",
    "# from .signal import signal\n",
    "import sqlite3 as sql\n",
    "import config \n",
    "import numpy as np\n",
    "import talib\n",
    "from EMA import EMA\n",
    "import config\n",
    "from datafeed import  create_coin_price_dataFeed\n",
    "import backtrader as bt"
   ]
  },
  {
   "cell_type": "code",
   "execution_count": 4,
   "id": "57152bf1",
   "metadata": {},
   "outputs": [
    {
     "name": "stdout",
     "output_type": "stream",
     "text": [
      "E:\\Programing Software\\Annaconda\\Ana\\envs\\env_binance\\python36.zip\n",
      "E:\\Programing Software\\Annaconda\\Ana\\envs\\env_binance\\DLLs\n",
      "E:\\Programing Software\\Annaconda\\Ana\\envs\\env_binance\\lib\n",
      "E:\\Programing Software\\Annaconda\\Ana\\envs\\env_binance\n",
      "\n",
      "E:\\Programing Software\\Annaconda\\Ana\\envs\\env_binance\\lib\\site-packages\n",
      "E:\\Programing Software\\Annaconda\\Ana\\envs\\env_binance\\lib\\site-packages\\win32\n",
      "E:\\Programing Software\\Annaconda\\Ana\\envs\\env_binance\\lib\\site-packages\\win32\\lib\n",
      "E:\\Programing Software\\Annaconda\\Ana\\envs\\env_binance\\lib\\site-packages\\Pythonwin\n",
      "E:\\Programing Software\\Annaconda\\Ana\\envs\\env_binance\\lib\\site-packages\\IPython\\extensions\n",
      "C:\\Users\\X_X\\.ipython\n",
      "../\n",
      "./backtrader_signal\n",
      "../backtrader\n",
      "../\n",
      "../\n",
      "./backtrader_signal\n",
      "../backtrader\n"
     ]
    }
   ],
   "source": [
    "for path in sys.path:\n",
    "    print(path)"
   ]
  },
  {
   "cell_type": "code",
   "execution_count": null,
   "id": "92219e65",
   "metadata": {},
   "outputs": [],
   "source": []
  }
 ],
 "metadata": {
  "kernelspec": {
   "display_name": "Python 3",
   "language": "python",
   "name": "python3"
  },
  "language_info": {
   "codemirror_mode": {
    "name": "ipython",
    "version": 3
   },
   "file_extension": ".py",
   "mimetype": "text/x-python",
   "name": "python",
   "nbconvert_exporter": "python",
   "pygments_lexer": "ipython3",
   "version": "3.6.13"
  }
 },
 "nbformat": 4,
 "nbformat_minor": 5
}
